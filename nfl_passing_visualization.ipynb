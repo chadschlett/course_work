{
  "nbformat": 4,
  "nbformat_minor": 0,
  "metadata": {
    "kernelspec": {
      "display_name": "Python 3",
      "language": "python",
      "name": "python3"
    },
    "language_info": {
      "codemirror_mode": {
        "name": "ipython",
        "version": 3
      },
      "file_extension": ".py",
      "mimetype": "text/x-python",
      "name": "python",
      "nbconvert_exporter": "python",
      "pygments_lexer": "ipython3",
      "version": "3.7.4"
    },
    "colab": {
      "name": "cschlett-assignment2.ipynb",
      "provenance": [],
      "include_colab_link": true
    }
  },
  "cells": [
    {
      "cell_type": "markdown",
      "metadata": {
        "id": "view-in-github",
        "colab_type": "text"
      },
      "source": [
        "<a href=\"https://colab.research.google.com/github/chadschlett/sports_analytics/blob/master/cschlett_assignment2.ipynb\" target=\"_parent\"><img src=\"https://colab.research.google.com/assets/colab-badge.svg\" alt=\"Open In Colab\"/></a>"
      ]
    },
    {
      "cell_type": "markdown",
      "metadata": {
        "id": "_PVSNjV5T-qx",
        "colab_type": "text"
      },
      "source": [
        "Chadwick Schlett University of Michigan Graduate Student"
      ]
    },
    {
      "cell_type": "markdown",
      "metadata": {
        "id": "0c4ZtLVDT-qz",
        "colab_type": "text"
      },
      "source": [
        "Visualization Technique:\n",
        "\n",
        "The visualization I plan to use is a box-plot showing passing yards data for Tom Brady over the course of his NFL career. The Box-plot will show a year-by-year analysis of Brady's games highlighting the median yards per game for that season as well as the first and third quartiles. Furthermore, the Max and Minimum values will also be shown per year. I will also add a subplot that shows average yards a game. These plots give the viewer a nice distribution and several inferences can be made off of this distribution. The main focus of this demonstration will be the box plot. \n",
        "\n",
        "This data analysis shows the variability of Brady's passing yards over the years and gives the viewer information on the consistency of Brady's abilities in passing yards/game. It can be assumed that the higher the passing yards, the more consistent and improving passing over each year, i.e. the more the medians and averages are similar or improving, and the longer the career indicate a more succcesful quarterback. This is because more passing yards normally means the team has more opportunities to score in the game. Being consistent at throwing high passing yards will often mean winning more games (assuming they scored when in the positon to score) and potentiallly more championships. Finally, combining high passing yards and consistency with a long career, likely implies teams, in this case just the Patriots, want to keep their quarterback because they are successful. \n",
        "\n",
        "This visualization type should be used where there is information that requires analysis of distribution and range. Passing data per game can very greatly and this plot allows the viewer to have a concise view of several key values including mean, median, percentiles, maximum and minimum, etc. Furthermore, a box plot allows the user to take less space in their charts and therefore can implement more data in the chart. One last advantage of the box-plot is that it allows us to view if the data is symetrical on a year by year basis and how tight the data is. If there is large variation in the data (in this case passing yards/game) it is caught with this plotting. The subplot of the average yards a game is simply an additive measure for our visualization that shows the end user additional information. Our main focus will be the box plot.\n",
        "\n",
        "Another graph to consider for this type of data would be a histogram or a density plot, however, those would take up more space and it would have to include a lot of different graphs to break down each individual season. One drawback of the boxplot is that it does not show an extremely detailed distribution of results. A box-plot focuses on a simple view and it can be used to quickly and efficiently compare data. However, a detailed analysis of the data would require additional graphs. This drawback does not impact the data being conveyed in our charts as there is not a ton of data per season and we are just looking for a broad understanding of Tom Brady's passing yard statistics over his career. \n",
        "\n"
      ]
    },
    {
      "cell_type": "markdown",
      "metadata": {
        "id": "IoXmMkj4T-qz",
        "colab_type": "text"
      },
      "source": [
        "Visualization Library:\n",
        "\n",
        "For this project I will be using the Plotly graphig libraries. Plotly was created by Alex Johnson, Jack Parmer, Chris Parmer, and Matthew Sundquist in Canada in 2012. The library gives individuals graphing and analytics tools for several programming languages including Python, R, and Matlab. The library is built on top of the Plotly JavaScript library and can be used to create visualization in a Jupyter Notebook. Plotly is great for this visualization in particular because it gives the user the ability to zoom into each season, select which season is shown in the graph, allows you to hover over the season and gives statistics, etc. all without any additional coding. \n",
        "\n",
        "The Graphing libraries are open source and can be downloaded in either of the following manners through your terminal: \n",
        "\n",
        "[$ pip install plotly==4.2.1]\n",
        "\n",
        "[$ conda install -c plotly plotly=4.2.1]\n",
        "\n",
        "I used the chart_studio download which includes plotly \n",
        "\n",
        "[$ pip install chart_studio]\n",
        "\n",
        "The general approach of the library is to create a figure (several different options including BoxPlot) and add the corresponding data to that figure. The library is declarative and is fully integrated with Jupyter. I wanted to use this library first and foremost because I had not used it before and I was interested in trying an additional visualization library outside of Matplotlib and Altair. Furthermore, as I began to learn the library, I appreciated the ease of use and the readabilty of the tutorials on the plotly site. The final product box-plot really showed the benefits of this library as well. I feel the plot is easy to read and the the ability to hover over the specific seasons showing data and the ability to select which seasons are charted are very impactful to the end user. This all was done without  additional coding, except customizatoins and therefore I thought it was an efficient and effective way to showcase the dataset.           \n",
        "            "
      ]
    },
    {
      "cell_type": "markdown",
      "metadata": {
        "id": "0ZhqzgKrT-q0",
        "colab_type": "text"
      },
      "source": [
        "Demonstration of Box Plot in Plotly\n",
        "\n",
        "To begin our demonstration lets import all of the software libraries we will need."
      ]
    },
    {
      "cell_type": "code",
      "metadata": {
        "id": "Rg_7z_TbT-q1",
        "colab_type": "code",
        "colab": {}
      },
      "source": [
        "import pandas as pd\n",
        "\n",
        "import numpy as np\n",
        "\n",
        "from datetime import datetime\n",
        "\n",
        "import chart_studio.plotly as py\n",
        "import plotly.graph_objects as go\n",
        "from plotly.subplots import make_subplots\n"
      ],
      "execution_count": 0,
      "outputs": []
    },
    {
      "cell_type": "markdown",
      "metadata": {
        "id": "IDFnhB_yT-q4",
        "colab_type": "text"
      },
      "source": [
        "Next, we will get our dataset. I chose my dataset from Pro-Football-Reference, a free statistics site for NFL players. Our dataset in particular is from the following link https://www.pro-football-reference.com/players/B/BradTo00/gamelog/ which shows the game statistics of Tom Brady's entire career. \n",
        "\n",
        "We will load the dataset into a dataframe and look at the beginning of the dataframe (this may take a minute or two as it is a very large dataset). "
      ]
    },
    {
      "cell_type": "code",
      "metadata": {
        "id": "8nVEdSBpT-q4",
        "colab_type": "code",
        "colab": {
          "base_uri": "https://localhost:8080/",
          "height": 299
        },
        "outputId": "4b77af94-b8cc-412b-e5fa-b9160a086592"
      },
      "source": [
        "url = \"https://www.pro-football-reference.com/players/B/BradTo00/gamelog/\"\n",
        "\n",
        "df = pd.read_html(url, header=1)[0]\n",
        "\n",
        "df.head()"
      ],
      "execution_count": 2,
      "outputs": [
        {
          "output_type": "execute_result",
          "data": {
            "text/html": [
              "<div>\n",
              "<style scoped>\n",
              "    .dataframe tbody tr th:only-of-type {\n",
              "        vertical-align: middle;\n",
              "    }\n",
              "\n",
              "    .dataframe tbody tr th {\n",
              "        vertical-align: top;\n",
              "    }\n",
              "\n",
              "    .dataframe thead th {\n",
              "        text-align: right;\n",
              "    }\n",
              "</style>\n",
              "<table border=\"1\" class=\"dataframe\">\n",
              "  <thead>\n",
              "    <tr style=\"text-align: right;\">\n",
              "      <th></th>\n",
              "      <th>Rk</th>\n",
              "      <th>Year</th>\n",
              "      <th>Date</th>\n",
              "      <th>G#</th>\n",
              "      <th>Week</th>\n",
              "      <th>Age</th>\n",
              "      <th>Tm</th>\n",
              "      <th>Unnamed: 7</th>\n",
              "      <th>Opp</th>\n",
              "      <th>Result</th>\n",
              "      <th>GS</th>\n",
              "      <th>Cmp</th>\n",
              "      <th>Att</th>\n",
              "      <th>Cmp%</th>\n",
              "      <th>Yds</th>\n",
              "      <th>TD</th>\n",
              "      <th>Int</th>\n",
              "      <th>Rate</th>\n",
              "      <th>Sk</th>\n",
              "      <th>Yds.1</th>\n",
              "      <th>Y/A</th>\n",
              "      <th>AY/A</th>\n",
              "      <th>Att.1</th>\n",
              "      <th>Yds.2</th>\n",
              "      <th>Y/A.1</th>\n",
              "      <th>TD.1</th>\n",
              "      <th>Tgt</th>\n",
              "      <th>Rec</th>\n",
              "      <th>Yds.3</th>\n",
              "      <th>Y/R</th>\n",
              "      <th>TD.2</th>\n",
              "      <th>Ctch%</th>\n",
              "      <th>Y/Tgt</th>\n",
              "      <th>TD.3</th>\n",
              "      <th>Pts</th>\n",
              "      <th>Fmb</th>\n",
              "      <th>FL</th>\n",
              "      <th>FF</th>\n",
              "      <th>FR</th>\n",
              "      <th>Yds.4</th>\n",
              "      <th>TD.4</th>\n",
              "      <th>Pnt</th>\n",
              "      <th>Yds.5</th>\n",
              "      <th>Y/P</th>\n",
              "      <th>Blck</th>\n",
              "      <th>Num</th>\n",
              "      <th>Pct</th>\n",
              "      <th>Num.1</th>\n",
              "      <th>Pct.1</th>\n",
              "      <th>Num.2</th>\n",
              "      <th>Pct.2</th>\n",
              "    </tr>\n",
              "  </thead>\n",
              "  <tbody>\n",
              "    <tr>\n",
              "      <th>0</th>\n",
              "      <td>1</td>\n",
              "      <td>2000</td>\n",
              "      <td>2000-11-23</td>\n",
              "      <td>12</td>\n",
              "      <td>13</td>\n",
              "      <td>23.112</td>\n",
              "      <td>NWE</td>\n",
              "      <td>@</td>\n",
              "      <td>DET</td>\n",
              "      <td>L 9-34</td>\n",
              "      <td>NaN</td>\n",
              "      <td>1</td>\n",
              "      <td>3</td>\n",
              "      <td>33.33</td>\n",
              "      <td>6</td>\n",
              "      <td>0</td>\n",
              "      <td>0</td>\n",
              "      <td>42.4</td>\n",
              "      <td>0</td>\n",
              "      <td>0</td>\n",
              "      <td>2.00</td>\n",
              "      <td>2.00</td>\n",
              "      <td>0</td>\n",
              "      <td>0</td>\n",
              "      <td>NaN</td>\n",
              "      <td>0</td>\n",
              "      <td>0</td>\n",
              "      <td>0</td>\n",
              "      <td>0</td>\n",
              "      <td>NaN</td>\n",
              "      <td>0</td>\n",
              "      <td>0.0%</td>\n",
              "      <td>NaN</td>\n",
              "      <td>0</td>\n",
              "      <td>0</td>\n",
              "      <td>0</td>\n",
              "      <td>NaN</td>\n",
              "      <td>0</td>\n",
              "      <td>0</td>\n",
              "      <td>0</td>\n",
              "      <td>0</td>\n",
              "      <td>0</td>\n",
              "      <td>0</td>\n",
              "      <td>NaN</td>\n",
              "      <td>0</td>\n",
              "      <td>NaN</td>\n",
              "      <td>NaN</td>\n",
              "      <td>NaN</td>\n",
              "      <td>NaN</td>\n",
              "      <td>NaN</td>\n",
              "      <td>NaN</td>\n",
              "    </tr>\n",
              "    <tr>\n",
              "      <th>1</th>\n",
              "      <td>Rk</td>\n",
              "      <td>Year</td>\n",
              "      <td>Date</td>\n",
              "      <td>G#</td>\n",
              "      <td>Week</td>\n",
              "      <td>Age</td>\n",
              "      <td>Tm</td>\n",
              "      <td>NaN</td>\n",
              "      <td>Opp</td>\n",
              "      <td>Result</td>\n",
              "      <td>GS</td>\n",
              "      <td>Cmp</td>\n",
              "      <td>Att</td>\n",
              "      <td>Cmp%</td>\n",
              "      <td>Yds</td>\n",
              "      <td>TD</td>\n",
              "      <td>Int</td>\n",
              "      <td>Rate</td>\n",
              "      <td>Sk</td>\n",
              "      <td>Yds</td>\n",
              "      <td>Y/A</td>\n",
              "      <td>AY/A</td>\n",
              "      <td>Att</td>\n",
              "      <td>Yds</td>\n",
              "      <td>Y/A</td>\n",
              "      <td>TD</td>\n",
              "      <td>Tgt</td>\n",
              "      <td>Rec</td>\n",
              "      <td>Yds</td>\n",
              "      <td>Y/R</td>\n",
              "      <td>TD</td>\n",
              "      <td>Ctch%</td>\n",
              "      <td>Y/Tgt</td>\n",
              "      <td>TD</td>\n",
              "      <td>Pts</td>\n",
              "      <td>Fmb</td>\n",
              "      <td>FL</td>\n",
              "      <td>FF</td>\n",
              "      <td>FR</td>\n",
              "      <td>Yds</td>\n",
              "      <td>TD</td>\n",
              "      <td>Pnt</td>\n",
              "      <td>Yds</td>\n",
              "      <td>Y/P</td>\n",
              "      <td>Blck</td>\n",
              "      <td>Num</td>\n",
              "      <td>Pct</td>\n",
              "      <td>Num</td>\n",
              "      <td>Pct</td>\n",
              "      <td>Num</td>\n",
              "      <td>Pct</td>\n",
              "    </tr>\n",
              "    <tr>\n",
              "      <th>2</th>\n",
              "      <td>2</td>\n",
              "      <td>2001</td>\n",
              "      <td>2001-09-23</td>\n",
              "      <td>2</td>\n",
              "      <td>2</td>\n",
              "      <td>24.051</td>\n",
              "      <td>NWE</td>\n",
              "      <td>NaN</td>\n",
              "      <td>NYJ</td>\n",
              "      <td>L 3-10</td>\n",
              "      <td>NaN</td>\n",
              "      <td>5</td>\n",
              "      <td>10</td>\n",
              "      <td>50.00</td>\n",
              "      <td>46</td>\n",
              "      <td>0</td>\n",
              "      <td>0</td>\n",
              "      <td>62.9</td>\n",
              "      <td>0</td>\n",
              "      <td>0</td>\n",
              "      <td>4.60</td>\n",
              "      <td>4.60</td>\n",
              "      <td>1</td>\n",
              "      <td>9</td>\n",
              "      <td>9.00</td>\n",
              "      <td>0</td>\n",
              "      <td>0</td>\n",
              "      <td>0</td>\n",
              "      <td>0</td>\n",
              "      <td>NaN</td>\n",
              "      <td>0</td>\n",
              "      <td>0.0%</td>\n",
              "      <td>NaN</td>\n",
              "      <td>0</td>\n",
              "      <td>0</td>\n",
              "      <td>0</td>\n",
              "      <td>NaN</td>\n",
              "      <td>0</td>\n",
              "      <td>0</td>\n",
              "      <td>0</td>\n",
              "      <td>0</td>\n",
              "      <td>0</td>\n",
              "      <td>0</td>\n",
              "      <td>NaN</td>\n",
              "      <td>0</td>\n",
              "      <td>NaN</td>\n",
              "      <td>NaN</td>\n",
              "      <td>NaN</td>\n",
              "      <td>NaN</td>\n",
              "      <td>NaN</td>\n",
              "      <td>NaN</td>\n",
              "    </tr>\n",
              "    <tr>\n",
              "      <th>3</th>\n",
              "      <td>3</td>\n",
              "      <td>2001</td>\n",
              "      <td>2001-09-30</td>\n",
              "      <td>3</td>\n",
              "      <td>3</td>\n",
              "      <td>24.058</td>\n",
              "      <td>NWE</td>\n",
              "      <td>NaN</td>\n",
              "      <td>IND</td>\n",
              "      <td>W 44-13</td>\n",
              "      <td>*</td>\n",
              "      <td>13</td>\n",
              "      <td>23</td>\n",
              "      <td>56.52</td>\n",
              "      <td>168</td>\n",
              "      <td>0</td>\n",
              "      <td>0</td>\n",
              "      <td>79.6</td>\n",
              "      <td>1</td>\n",
              "      <td>9</td>\n",
              "      <td>7.30</td>\n",
              "      <td>7.30</td>\n",
              "      <td>1</td>\n",
              "      <td>2</td>\n",
              "      <td>2.00</td>\n",
              "      <td>0</td>\n",
              "      <td>0</td>\n",
              "      <td>0</td>\n",
              "      <td>0</td>\n",
              "      <td>NaN</td>\n",
              "      <td>0</td>\n",
              "      <td>0.0%</td>\n",
              "      <td>NaN</td>\n",
              "      <td>0</td>\n",
              "      <td>0</td>\n",
              "      <td>0</td>\n",
              "      <td>NaN</td>\n",
              "      <td>0</td>\n",
              "      <td>0</td>\n",
              "      <td>0</td>\n",
              "      <td>0</td>\n",
              "      <td>0</td>\n",
              "      <td>0</td>\n",
              "      <td>NaN</td>\n",
              "      <td>0</td>\n",
              "      <td>NaN</td>\n",
              "      <td>NaN</td>\n",
              "      <td>NaN</td>\n",
              "      <td>NaN</td>\n",
              "      <td>NaN</td>\n",
              "      <td>NaN</td>\n",
              "    </tr>\n",
              "    <tr>\n",
              "      <th>4</th>\n",
              "      <td>4</td>\n",
              "      <td>2001</td>\n",
              "      <td>2001-10-07</td>\n",
              "      <td>4</td>\n",
              "      <td>4</td>\n",
              "      <td>24.065</td>\n",
              "      <td>NWE</td>\n",
              "      <td>@</td>\n",
              "      <td>MIA</td>\n",
              "      <td>L 10-30</td>\n",
              "      <td>*</td>\n",
              "      <td>12</td>\n",
              "      <td>24</td>\n",
              "      <td>50.00</td>\n",
              "      <td>86</td>\n",
              "      <td>0</td>\n",
              "      <td>0</td>\n",
              "      <td>58.7</td>\n",
              "      <td>4</td>\n",
              "      <td>17</td>\n",
              "      <td>3.58</td>\n",
              "      <td>3.58</td>\n",
              "      <td>2</td>\n",
              "      <td>9</td>\n",
              "      <td>4.50</td>\n",
              "      <td>0</td>\n",
              "      <td>0</td>\n",
              "      <td>0</td>\n",
              "      <td>0</td>\n",
              "      <td>NaN</td>\n",
              "      <td>0</td>\n",
              "      <td>0.0%</td>\n",
              "      <td>NaN</td>\n",
              "      <td>0</td>\n",
              "      <td>0</td>\n",
              "      <td>1</td>\n",
              "      <td>0</td>\n",
              "      <td>0</td>\n",
              "      <td>0</td>\n",
              "      <td>0</td>\n",
              "      <td>0</td>\n",
              "      <td>0</td>\n",
              "      <td>0</td>\n",
              "      <td>NaN</td>\n",
              "      <td>0</td>\n",
              "      <td>NaN</td>\n",
              "      <td>NaN</td>\n",
              "      <td>NaN</td>\n",
              "      <td>NaN</td>\n",
              "      <td>NaN</td>\n",
              "      <td>NaN</td>\n",
              "    </tr>\n",
              "  </tbody>\n",
              "</table>\n",
              "</div>"
            ],
            "text/plain": [
              "   Rk  Year        Date  G#  Week     Age  ...  Num  Pct Num.1 Pct.1 Num.2 Pct.2\n",
              "0   1  2000  2000-11-23  12    13  23.112  ...  NaN  NaN   NaN   NaN   NaN   NaN\n",
              "1  Rk  Year        Date  G#  Week     Age  ...  Num  Pct   Num   Pct   Num   Pct\n",
              "2   2  2001  2001-09-23   2     2  24.051  ...  NaN  NaN   NaN   NaN   NaN   NaN\n",
              "3   3  2001  2001-09-30   3     3  24.058  ...  NaN  NaN   NaN   NaN   NaN   NaN\n",
              "4   4  2001  2001-10-07   4     4  24.065  ...  NaN  NaN   NaN   NaN   NaN   NaN\n",
              "\n",
              "[5 rows x 51 columns]"
            ]
          },
          "metadata": {
            "tags": []
          },
          "execution_count": 2
        }
      ]
    },
    {
      "cell_type": "markdown",
      "metadata": {
        "id": "RuiwzXUKT-q7",
        "colab_type": "text"
      },
      "source": [
        "Cleaning The Dataset:\n",
        "\n",
        "As you can see, the dataframe created is very messy and needs a lot of cleaning up. I will update the name of the dataframe from df to cleaned_df with these changes. This is done as a precaution to indicate that the dataframe is being cleaned. I will begin by renaming some columns. I ranamed the 'Rk' column to 'Career Games Played' as it is a nice count of total games played by Brady. The other two columns I simply wanted more specificty on the column name. I then  selected the information relevant to the passing statistics replacing the previous cleaned_df. "
      ]
    },
    {
      "cell_type": "code",
      "metadata": {
        "id": "vT7mSEcwT-q8",
        "colab_type": "code",
        "colab": {
          "base_uri": "https://localhost:8080/",
          "height": 195
        },
        "outputId": "620f8ba5-1b6f-4726-ae33-0639544a9a7d"
      },
      "source": [
        "#Renamed a few Columns\n",
        "df = df.rename(columns={'Rk':'Career Games Played','Date':'Game Date','Yds':'Passing Yards'})\n",
        "\n",
        "#Passing Information\n",
        "\n",
        "cleaned_df = df[['Career Games Played','Week','Year','Game Date','Opp','Result',\n",
        "                 'Cmp','Att','Cmp%','Passing Yards','TD','Int','Rate']]\n",
        "\n",
        "cleaned_df.head()"
      ],
      "execution_count": 3,
      "outputs": [
        {
          "output_type": "execute_result",
          "data": {
            "text/html": [
              "<div>\n",
              "<style scoped>\n",
              "    .dataframe tbody tr th:only-of-type {\n",
              "        vertical-align: middle;\n",
              "    }\n",
              "\n",
              "    .dataframe tbody tr th {\n",
              "        vertical-align: top;\n",
              "    }\n",
              "\n",
              "    .dataframe thead th {\n",
              "        text-align: right;\n",
              "    }\n",
              "</style>\n",
              "<table border=\"1\" class=\"dataframe\">\n",
              "  <thead>\n",
              "    <tr style=\"text-align: right;\">\n",
              "      <th></th>\n",
              "      <th>Career Games Played</th>\n",
              "      <th>Week</th>\n",
              "      <th>Year</th>\n",
              "      <th>Game Date</th>\n",
              "      <th>Opp</th>\n",
              "      <th>Result</th>\n",
              "      <th>Cmp</th>\n",
              "      <th>Att</th>\n",
              "      <th>Cmp%</th>\n",
              "      <th>Passing Yards</th>\n",
              "      <th>TD</th>\n",
              "      <th>Int</th>\n",
              "      <th>Rate</th>\n",
              "    </tr>\n",
              "  </thead>\n",
              "  <tbody>\n",
              "    <tr>\n",
              "      <th>0</th>\n",
              "      <td>1</td>\n",
              "      <td>13</td>\n",
              "      <td>2000</td>\n",
              "      <td>2000-11-23</td>\n",
              "      <td>DET</td>\n",
              "      <td>L 9-34</td>\n",
              "      <td>1</td>\n",
              "      <td>3</td>\n",
              "      <td>33.33</td>\n",
              "      <td>6</td>\n",
              "      <td>0</td>\n",
              "      <td>0</td>\n",
              "      <td>42.4</td>\n",
              "    </tr>\n",
              "    <tr>\n",
              "      <th>1</th>\n",
              "      <td>Rk</td>\n",
              "      <td>Week</td>\n",
              "      <td>Year</td>\n",
              "      <td>Date</td>\n",
              "      <td>Opp</td>\n",
              "      <td>Result</td>\n",
              "      <td>Cmp</td>\n",
              "      <td>Att</td>\n",
              "      <td>Cmp%</td>\n",
              "      <td>Yds</td>\n",
              "      <td>TD</td>\n",
              "      <td>Int</td>\n",
              "      <td>Rate</td>\n",
              "    </tr>\n",
              "    <tr>\n",
              "      <th>2</th>\n",
              "      <td>2</td>\n",
              "      <td>2</td>\n",
              "      <td>2001</td>\n",
              "      <td>2001-09-23</td>\n",
              "      <td>NYJ</td>\n",
              "      <td>L 3-10</td>\n",
              "      <td>5</td>\n",
              "      <td>10</td>\n",
              "      <td>50.00</td>\n",
              "      <td>46</td>\n",
              "      <td>0</td>\n",
              "      <td>0</td>\n",
              "      <td>62.9</td>\n",
              "    </tr>\n",
              "    <tr>\n",
              "      <th>3</th>\n",
              "      <td>3</td>\n",
              "      <td>3</td>\n",
              "      <td>2001</td>\n",
              "      <td>2001-09-30</td>\n",
              "      <td>IND</td>\n",
              "      <td>W 44-13</td>\n",
              "      <td>13</td>\n",
              "      <td>23</td>\n",
              "      <td>56.52</td>\n",
              "      <td>168</td>\n",
              "      <td>0</td>\n",
              "      <td>0</td>\n",
              "      <td>79.6</td>\n",
              "    </tr>\n",
              "    <tr>\n",
              "      <th>4</th>\n",
              "      <td>4</td>\n",
              "      <td>4</td>\n",
              "      <td>2001</td>\n",
              "      <td>2001-10-07</td>\n",
              "      <td>MIA</td>\n",
              "      <td>L 10-30</td>\n",
              "      <td>12</td>\n",
              "      <td>24</td>\n",
              "      <td>50.00</td>\n",
              "      <td>86</td>\n",
              "      <td>0</td>\n",
              "      <td>0</td>\n",
              "      <td>58.7</td>\n",
              "    </tr>\n",
              "  </tbody>\n",
              "</table>\n",
              "</div>"
            ],
            "text/plain": [
              "  Career Games Played  Week  Year   Game Date  ... Passing Yards  TD  Int  Rate\n",
              "0                   1    13  2000  2000-11-23  ...             6   0    0  42.4\n",
              "1                  Rk  Week  Year        Date  ...           Yds  TD  Int  Rate\n",
              "2                   2     2  2001  2001-09-23  ...            46   0    0  62.9\n",
              "3                   3     3  2001  2001-09-30  ...           168   0    0  79.6\n",
              "4                   4     4  2001  2001-10-07  ...            86   0    0  58.7\n",
              "\n",
              "[5 rows x 13 columns]"
            ]
          },
          "metadata": {
            "tags": []
          },
          "execution_count": 3
        }
      ]
    },
    {
      "cell_type": "markdown",
      "metadata": {
        "id": "asbpDbj6T-q-",
        "colab_type": "text"
      },
      "source": [
        "Now that we have the passing statistics the dataframe is still a bit messy. The first problem is that there is data (here in row index 1) that is not congruent with the column titles. This is because the dataframe downloaded includes column titles for each and every year inside the dataframe. Therefore we can drop these rows using a where function combined with dropna. Secondly, in order to run statistical analysis we need to change the values of several columns to floats from strings using the asype function. "
      ]
    },
    {
      "cell_type": "code",
      "metadata": {
        "id": "Z8hts-CzT-q-",
        "colab_type": "code",
        "colab": {
          "base_uri": "https://localhost:8080/",
          "height": 195
        },
        "outputId": "bd685f07-a03f-4f80-c827-433e2dad8284"
      },
      "source": [
        "#Cleaned the Df for RK\n",
        "\n",
        "cleaned_df = cleaned_df.where(cleaned_df.values != 'Rk').dropna()\n",
        "\n",
        "\n",
        "# Change Column types to Float\n",
        "\n",
        "cleaned_df[['Cmp','Att','Cmp%','Passing Yards','TD','Int']] = cleaned_df[['Cmp','Att','Cmp%','Passing Yards','TD','Int']].astype(float)\n",
        "\n",
        "cleaned_df.head()"
      ],
      "execution_count": 4,
      "outputs": [
        {
          "output_type": "execute_result",
          "data": {
            "text/html": [
              "<div>\n",
              "<style scoped>\n",
              "    .dataframe tbody tr th:only-of-type {\n",
              "        vertical-align: middle;\n",
              "    }\n",
              "\n",
              "    .dataframe tbody tr th {\n",
              "        vertical-align: top;\n",
              "    }\n",
              "\n",
              "    .dataframe thead th {\n",
              "        text-align: right;\n",
              "    }\n",
              "</style>\n",
              "<table border=\"1\" class=\"dataframe\">\n",
              "  <thead>\n",
              "    <tr style=\"text-align: right;\">\n",
              "      <th></th>\n",
              "      <th>Career Games Played</th>\n",
              "      <th>Week</th>\n",
              "      <th>Year</th>\n",
              "      <th>Game Date</th>\n",
              "      <th>Opp</th>\n",
              "      <th>Result</th>\n",
              "      <th>Cmp</th>\n",
              "      <th>Att</th>\n",
              "      <th>Cmp%</th>\n",
              "      <th>Passing Yards</th>\n",
              "      <th>TD</th>\n",
              "      <th>Int</th>\n",
              "      <th>Rate</th>\n",
              "    </tr>\n",
              "  </thead>\n",
              "  <tbody>\n",
              "    <tr>\n",
              "      <th>0</th>\n",
              "      <td>1</td>\n",
              "      <td>13</td>\n",
              "      <td>2000</td>\n",
              "      <td>2000-11-23</td>\n",
              "      <td>DET</td>\n",
              "      <td>L 9-34</td>\n",
              "      <td>1.0</td>\n",
              "      <td>3.0</td>\n",
              "      <td>33.33</td>\n",
              "      <td>6.0</td>\n",
              "      <td>0.0</td>\n",
              "      <td>0.0</td>\n",
              "      <td>42.4</td>\n",
              "    </tr>\n",
              "    <tr>\n",
              "      <th>2</th>\n",
              "      <td>2</td>\n",
              "      <td>2</td>\n",
              "      <td>2001</td>\n",
              "      <td>2001-09-23</td>\n",
              "      <td>NYJ</td>\n",
              "      <td>L 3-10</td>\n",
              "      <td>5.0</td>\n",
              "      <td>10.0</td>\n",
              "      <td>50.00</td>\n",
              "      <td>46.0</td>\n",
              "      <td>0.0</td>\n",
              "      <td>0.0</td>\n",
              "      <td>62.9</td>\n",
              "    </tr>\n",
              "    <tr>\n",
              "      <th>3</th>\n",
              "      <td>3</td>\n",
              "      <td>3</td>\n",
              "      <td>2001</td>\n",
              "      <td>2001-09-30</td>\n",
              "      <td>IND</td>\n",
              "      <td>W 44-13</td>\n",
              "      <td>13.0</td>\n",
              "      <td>23.0</td>\n",
              "      <td>56.52</td>\n",
              "      <td>168.0</td>\n",
              "      <td>0.0</td>\n",
              "      <td>0.0</td>\n",
              "      <td>79.6</td>\n",
              "    </tr>\n",
              "    <tr>\n",
              "      <th>4</th>\n",
              "      <td>4</td>\n",
              "      <td>4</td>\n",
              "      <td>2001</td>\n",
              "      <td>2001-10-07</td>\n",
              "      <td>MIA</td>\n",
              "      <td>L 10-30</td>\n",
              "      <td>12.0</td>\n",
              "      <td>24.0</td>\n",
              "      <td>50.00</td>\n",
              "      <td>86.0</td>\n",
              "      <td>0.0</td>\n",
              "      <td>0.0</td>\n",
              "      <td>58.7</td>\n",
              "    </tr>\n",
              "    <tr>\n",
              "      <th>5</th>\n",
              "      <td>5</td>\n",
              "      <td>5</td>\n",
              "      <td>2001</td>\n",
              "      <td>2001-10-14</td>\n",
              "      <td>SDG</td>\n",
              "      <td>W 29-26</td>\n",
              "      <td>33.0</td>\n",
              "      <td>54.0</td>\n",
              "      <td>61.11</td>\n",
              "      <td>364.0</td>\n",
              "      <td>2.0</td>\n",
              "      <td>0.0</td>\n",
              "      <td>93.4</td>\n",
              "    </tr>\n",
              "  </tbody>\n",
              "</table>\n",
              "</div>"
            ],
            "text/plain": [
              "  Career Games Played Week  Year   Game Date  ... Passing Yards   TD  Int  Rate\n",
              "0                   1   13  2000  2000-11-23  ...           6.0  0.0  0.0  42.4\n",
              "2                   2    2  2001  2001-09-23  ...          46.0  0.0  0.0  62.9\n",
              "3                   3    3  2001  2001-09-30  ...         168.0  0.0  0.0  79.6\n",
              "4                   4    4  2001  2001-10-07  ...          86.0  0.0  0.0  58.7\n",
              "5                   5    5  2001  2001-10-14  ...         364.0  2.0  0.0  93.4\n",
              "\n",
              "[5 rows x 13 columns]"
            ]
          },
          "metadata": {
            "tags": []
          },
          "execution_count": 4
        }
      ]
    },
    {
      "cell_type": "markdown",
      "metadata": {
        "id": "hu5bA1zJT-rA",
        "colab_type": "text"
      },
      "source": [
        "The data looks very neat and clean and we are almost ready to run some analysis. However, looking at the entire dataset for Brady, 2000 and 2008 have only one game of statistics in each season. Brady was drafted in 2000 and only played in one game in 2000. After Drew Bledsoe suffered an injury in the second week of 2001, Brady was named the starter and never lost his starting role. In 2008, after an almost perfect season in 2007 that ended in a Super Bowl loss, Brady tore his ACL and MCL in the first game of the season and was out for the rest of the season. These two datapoints will not chart well in the Box-plot methodology as both will just be a single datapoint and therefore we will remove them. We will do this with a function of having at least 10 games or more in the season. This allows the user to change the dataset and be confident in distribution of the data. IF you are using this function for another player this is still helpful as at least ten games is over half of an NFL season(16 games played) and therefore the presented chart has some consistency with players that are active on the team."
      ]
    },
    {
      "cell_type": "code",
      "metadata": {
        "id": "Up3nETE-T-rB",
        "colab_type": "code",
        "colab": {}
      },
      "source": [
        "cleaned_df = cleaned_df.groupby('Year').filter(lambda x : len(x)>=10)"
      ],
      "execution_count": 0,
      "outputs": []
    },
    {
      "cell_type": "markdown",
      "metadata": {
        "id": "c3DBVK3JT-rD",
        "colab_type": "text"
      },
      "source": [
        "We next want to create a year list for our 'for loop' we will use in the next code set. We will also create a figure using the fig function and an open dictionary called seasons that will be used in our for loop"
      ]
    },
    {
      "cell_type": "code",
      "metadata": {
        "id": "nekAWY7XT-rD",
        "colab_type": "code",
        "colab": {}
      },
      "source": [
        "#Years\n",
        "\n",
        "year_list = list(cleaned_df['Year'].drop_duplicates())\n",
        "\n",
        "#Getting each seasons DataFrame\n",
        "fig = go.Figure()\n",
        "\n",
        "season={}"
      ],
      "execution_count": 0,
      "outputs": []
    },
    {
      "cell_type": "markdown",
      "metadata": {
        "id": "jnnx7I3FT-rF",
        "colab_type": "text"
      },
      "source": [
        "Creating The Figure (Box-Plot):\n",
        "\n",
        "Our Final step is creating the boxplot for our data. We will start by creating subplots as we want to have a graph of the variabilty of cadence on the top (the boxplots) and the average cadence per game on the bottom. We set the row heights to emphasize the Box Plot as that is our main chart of analysis. We also set the shared_xaxes to be true as the data for both charts will be on the Season axis. For our boxplot we will create a 'for loop' and then explain the functionality. "
      ]
    },
    {
      "cell_type": "code",
      "metadata": {
        "id": "-OntZ9OLT-rG",
        "colab_type": "code",
        "colab": {}
      },
      "source": [
        "fig = make_subplots(rows=2, cols=1,\n",
        "                    specs=[[{\"secondary_y\": False}],\n",
        "                           [{\"secondary_y\": False}]], row_heights=[250,50], shared_xaxes=True, vertical_spacing=0.02)\n",
        "\n",
        "for year in year_list:    \n",
        "    season[year] = cleaned_df.loc[cleaned_df['Year'] == year]['Passing Yards']\n",
        "    if int(year) % 2 == 0:\n",
        "        fig.add_trace(go.Box(y=season[year], name=year, fillcolor='red', marker_color='black'))\n",
        "    else:\n",
        "        fig.add_trace(go.Box(y=season[year], name=year, fillcolor='blue', marker_color='black'))"
      ],
      "execution_count": 0,
      "outputs": []
    },
    {
      "cell_type": "markdown",
      "metadata": {
        "id": "Be7xpViNT-rI",
        "colab_type": "text"
      },
      "source": [
        "The 'for loop' takes each season in the year_list and creates a new series of just the passing yards for each season.The following is an example of a dataframe for passing yards of the first five games of the 2009 season. "
      ]
    },
    {
      "cell_type": "code",
      "metadata": {
        "id": "vPRmFZp7T-rI",
        "colab_type": "code",
        "colab": {
          "base_uri": "https://localhost:8080/",
          "height": 118
        },
        "outputId": "a6878b4a-a4a6-45c2-950f-4cfb0355b502"
      },
      "source": [
        "season['2009'].head()"
      ],
      "execution_count": 8,
      "outputs": [
        {
          "output_type": "execute_result",
          "data": {
            "text/plain": [
              "122    378.0\n",
              "123    216.0\n",
              "124    277.0\n",
              "125    258.0\n",
              "126    215.0\n",
              "Name: Passing Yards, dtype: float64"
            ]
          },
          "metadata": {
            "tags": []
          },
          "execution_count": 8
        }
      ]
    },
    {
      "cell_type": "markdown",
      "metadata": {
        "id": "CEX88FmFT-rK",
        "colab_type": "text"
      },
      "source": [
        "After creating each season's passing yard dataframe, the 'for loop' then adds a boxpot to the figure with the passing data and year of the season.  A great customization feature of Plotly is the ability to customize each boxplot very easily. I decided to use an if statement to color the plots patriots colors (red and blue) based on year and marker colors to black using a very concrete set of code. Lets look at the figure:"
      ]
    },
    {
      "cell_type": "code",
      "metadata": {
        "id": "WOiViN3mT-rL",
        "colab_type": "code",
        "colab": {
          "base_uri": "https://localhost:8080/",
          "height": 542
        },
        "outputId": "40bc8663-70ac-40d4-aaff-f07f7b346ac1"
      },
      "source": [
        "fig.show()"
      ],
      "execution_count": 9,
      "outputs": [
        {
          "output_type": "display_data",
          "data": {
            "text/html": [
              "<html>\n",
              "<head><meta charset=\"utf-8\" /></head>\n",
              "<body>\n",
              "    <div>\n",
              "            <script src=\"https://cdnjs.cloudflare.com/ajax/libs/mathjax/2.7.5/MathJax.js?config=TeX-AMS-MML_SVG\"></script><script type=\"text/javascript\">if (window.MathJax) {MathJax.Hub.Config({SVG: {font: \"STIX-Web\"}});}</script>\n",
              "                <script type=\"text/javascript\">window.PlotlyConfig = {MathJaxConfig: 'local'};</script>\n",
              "        <script src=\"https://cdn.plot.ly/plotly-latest.min.js\"></script>    \n",
              "            <div id=\"9a29fad5-e34a-4060-bea2-4a189ef1b464\" class=\"plotly-graph-div\" style=\"height:525px; width:100%;\"></div>\n",
              "            <script type=\"text/javascript\">\n",
              "                \n",
              "                    window.PLOTLYENV=window.PLOTLYENV || {};\n",
              "                    \n",
              "                if (document.getElementById(\"9a29fad5-e34a-4060-bea2-4a189ef1b464\")) {\n",
              "                    Plotly.newPlot(\n",
              "                        '9a29fad5-e34a-4060-bea2-4a189ef1b464',\n",
              "                        [{\"fillcolor\": \"blue\", \"marker\": {\"color\": \"black\"}, \"name\": \"2001\", \"type\": \"box\", \"y\": [46.0, 168.0, 86.0, 364.0, 202.0, 203.0, 250.0, 107.0, 185.0, 258.0, 213.0, 218.0, 237.0, 108.0, 198.0]}, {\"fillcolor\": \"red\", \"marker\": {\"color\": \"black\"}, \"name\": \"2002\", \"type\": \"box\", \"y\": [294.0, 269.0, 410.0, 353.0, 240.0, 183.0, 130.0, 265.0, 328.0, 172.0, 239.0, 210.0, 183.0, 134.0, 133.0, 221.0]}, {\"fillcolor\": \"blue\", \"marker\": {\"color\": \"black\"}, \"name\": \"2003\", \"type\": \"box\", \"y\": [123.0, 255.0, 181.0, 289.0, 219.0, 112.0, 283.0, 259.0, 350.0, 212.0, 368.0, 236.0, 163.0, 228.0, 138.0, 204.0]}, {\"fillcolor\": \"red\", \"marker\": {\"color\": \"black\"}, \"name\": \"2004\", \"type\": \"box\", \"y\": [335.0, 219.0, 298.0, 76.0, 231.0, 230.0, 271.0, 234.0, 233.0, 315.0, 172.0, 157.0, 260.0, 171.0, 264.0, 226.0]}, {\"fillcolor\": \"blue\", \"marker\": {\"color\": \"black\"}, \"name\": \"2005\", \"type\": \"box\", \"y\": [306.0, 270.0, 372.0, 224.0, 350.0, 299.0, 199.0, 265.0, 275.0, 222.0, 248.0, 271.0, 329.0, 258.0, 185.0, 37.0]}, {\"fillcolor\": \"red\", \"marker\": {\"color\": \"black\"}, \"name\": \"2006\", \"type\": \"box\", \"y\": [163.0, 220.0, 320.0, 188.0, 140.0, 195.0, 372.0, 201.0, 253.0, 244.0, 267.0, 305.0, 78.0, 109.0, 249.0, 225.0]}, {\"fillcolor\": \"blue\", \"marker\": {\"color\": \"black\"}, \"name\": \"2007\", \"type\": \"box\", \"y\": [297.0, 279.0, 311.0, 231.0, 265.0, 388.0, 354.0, 306.0, 255.0, 373.0, 380.0, 257.0, 399.0, 140.0, 215.0, 356.0]}, {\"fillcolor\": \"blue\", \"marker\": {\"color\": \"black\"}, \"name\": \"2009\", \"type\": \"box\", \"y\": [378.0, 216.0, 277.0, 258.0, 215.0, 380.0, 308.0, 332.0, 375.0, 310.0, 237.0, 352.0, 192.0, 115.0, 267.0, 186.0]}, {\"fillcolor\": \"red\", \"marker\": {\"color\": \"black\"}, \"name\": \"2010\", \"type\": \"box\", \"y\": [258.0, 248.0, 252.0, 153.0, 292.0, 159.0, 240.0, 224.0, 350.0, 186.0, 341.0, 326.0, 369.0, 163.0, 140.0, 199.0]}, {\"fillcolor\": \"blue\", \"marker\": {\"color\": \"black\"}, \"name\": \"2011\", \"type\": \"box\", \"y\": [517.0, 423.0, 387.0, 226.0, 321.0, 289.0, 198.0, 342.0, 329.0, 234.0, 361.0, 289.0, 357.0, 320.0, 304.0, 338.0]}, {\"fillcolor\": \"red\", \"marker\": {\"color\": \"black\"}, \"name\": \"2012\", \"type\": \"box\", \"y\": [236.0, 316.0, 335.0, 340.0, 223.0, 395.0, 259.0, 304.0, 237.0, 331.0, 323.0, 238.0, 296.0, 443.0, 267.0, 284.0]}, {\"fillcolor\": \"blue\", \"marker\": {\"color\": \"black\"}, \"name\": \"2013\", \"type\": \"box\", \"y\": [288.0, 185.0, 225.0, 316.0, 197.0, 269.0, 228.0, 116.0, 432.0, 296.0, 344.0, 371.0, 418.0, 364.0, 172.0, 122.0]}, {\"fillcolor\": \"red\", \"marker\": {\"color\": \"black\"}, \"name\": \"2014\", \"type\": \"box\", \"y\": [249.0, 149.0, 234.0, 159.0, 292.0, 361.0, 261.0, 354.0, 333.0, 257.0, 349.0, 245.0, 317.0, 287.0, 182.0, 80.0]}, {\"fillcolor\": \"blue\", \"marker\": {\"color\": \"black\"}, \"name\": \"2015\", \"type\": \"box\", \"y\": [288.0, 466.0, 358.0, 275.0, 312.0, 355.0, 356.0, 299.0, 334.0, 277.0, 280.0, 312.0, 226.0, 267.0, 231.0, 134.0]}, {\"fillcolor\": \"red\", \"marker\": {\"color\": \"black\"}, \"name\": \"2016\", \"type\": \"box\", \"y\": [406.0, 376.0, 222.0, 315.0, 316.0, 280.0, 286.0, 269.0, 406.0, 188.0, 214.0, 276.0]}, {\"fillcolor\": \"blue\", \"marker\": {\"color\": \"black\"}, \"name\": \"2017\", \"type\": \"box\", \"y\": [267.0, 447.0, 378.0, 307.0, 303.0, 257.0, 249.0, 333.0, 266.0, 340.0, 227.0, 258.0, 233.0, 298.0, 224.0, 190.0]}, {\"fillcolor\": \"red\", \"marker\": {\"color\": \"black\"}, \"name\": \"2018\", \"type\": \"box\", \"y\": [277.0, 234.0, 133.0, 274.0, 341.0, 340.0, 277.0, 324.0, 294.0, 254.0, 283.0, 311.0, 358.0, 279.0, 126.0, 250.0]}, {\"fillcolor\": \"blue\", \"marker\": {\"color\": \"black\"}, \"name\": \"2019\", \"type\": \"box\", \"y\": [341.0, 264.0, 306.0, 150.0, 348.0, 334.0, 249.0, 259.0, 285.0, 216.0, 190.0, 326.0, 169.0, 128.0, 271.0, 221.0]}],\n",
              "                        {\"template\": {\"data\": {\"bar\": [{\"error_x\": {\"color\": \"#2a3f5f\"}, \"error_y\": {\"color\": \"#2a3f5f\"}, \"marker\": {\"line\": {\"color\": \"#E5ECF6\", \"width\": 0.5}}, \"type\": \"bar\"}], \"barpolar\": [{\"marker\": {\"line\": {\"color\": \"#E5ECF6\", \"width\": 0.5}}, \"type\": \"barpolar\"}], \"carpet\": [{\"aaxis\": {\"endlinecolor\": \"#2a3f5f\", \"gridcolor\": \"white\", \"linecolor\": \"white\", \"minorgridcolor\": \"white\", \"startlinecolor\": \"#2a3f5f\"}, \"baxis\": {\"endlinecolor\": \"#2a3f5f\", \"gridcolor\": \"white\", \"linecolor\": \"white\", \"minorgridcolor\": \"white\", \"startlinecolor\": \"#2a3f5f\"}, \"type\": \"carpet\"}], \"choropleth\": [{\"colorbar\": {\"outlinewidth\": 0, \"ticks\": \"\"}, \"type\": \"choropleth\"}], \"contour\": [{\"colorbar\": {\"outlinewidth\": 0, \"ticks\": \"\"}, \"colorscale\": [[0.0, \"#0d0887\"], [0.1111111111111111, \"#46039f\"], [0.2222222222222222, \"#7201a8\"], [0.3333333333333333, \"#9c179e\"], [0.4444444444444444, \"#bd3786\"], [0.5555555555555556, \"#d8576b\"], [0.6666666666666666, \"#ed7953\"], [0.7777777777777778, \"#fb9f3a\"], [0.8888888888888888, \"#fdca26\"], [1.0, \"#f0f921\"]], \"type\": \"contour\"}], \"contourcarpet\": [{\"colorbar\": {\"outlinewidth\": 0, \"ticks\": \"\"}, \"type\": \"contourcarpet\"}], \"heatmap\": [{\"colorbar\": {\"outlinewidth\": 0, \"ticks\": \"\"}, \"colorscale\": [[0.0, \"#0d0887\"], [0.1111111111111111, \"#46039f\"], [0.2222222222222222, \"#7201a8\"], [0.3333333333333333, \"#9c179e\"], [0.4444444444444444, \"#bd3786\"], [0.5555555555555556, \"#d8576b\"], [0.6666666666666666, \"#ed7953\"], [0.7777777777777778, \"#fb9f3a\"], [0.8888888888888888, \"#fdca26\"], [1.0, \"#f0f921\"]], \"type\": \"heatmap\"}], \"heatmapgl\": [{\"colorbar\": {\"outlinewidth\": 0, \"ticks\": \"\"}, \"colorscale\": [[0.0, \"#0d0887\"], [0.1111111111111111, \"#46039f\"], [0.2222222222222222, \"#7201a8\"], [0.3333333333333333, \"#9c179e\"], [0.4444444444444444, \"#bd3786\"], [0.5555555555555556, \"#d8576b\"], [0.6666666666666666, \"#ed7953\"], [0.7777777777777778, \"#fb9f3a\"], [0.8888888888888888, \"#fdca26\"], [1.0, \"#f0f921\"]], \"type\": \"heatmapgl\"}], \"histogram\": [{\"marker\": {\"colorbar\": {\"outlinewidth\": 0, \"ticks\": \"\"}}, \"type\": \"histogram\"}], \"histogram2d\": [{\"colorbar\": {\"outlinewidth\": 0, \"ticks\": \"\"}, \"colorscale\": [[0.0, \"#0d0887\"], [0.1111111111111111, \"#46039f\"], [0.2222222222222222, \"#7201a8\"], [0.3333333333333333, \"#9c179e\"], [0.4444444444444444, \"#bd3786\"], [0.5555555555555556, \"#d8576b\"], [0.6666666666666666, \"#ed7953\"], [0.7777777777777778, \"#fb9f3a\"], [0.8888888888888888, \"#fdca26\"], [1.0, \"#f0f921\"]], \"type\": \"histogram2d\"}], \"histogram2dcontour\": [{\"colorbar\": {\"outlinewidth\": 0, \"ticks\": \"\"}, \"colorscale\": [[0.0, \"#0d0887\"], [0.1111111111111111, \"#46039f\"], [0.2222222222222222, \"#7201a8\"], [0.3333333333333333, \"#9c179e\"], [0.4444444444444444, \"#bd3786\"], [0.5555555555555556, \"#d8576b\"], [0.6666666666666666, \"#ed7953\"], [0.7777777777777778, \"#fb9f3a\"], [0.8888888888888888, \"#fdca26\"], [1.0, \"#f0f921\"]], \"type\": \"histogram2dcontour\"}], \"mesh3d\": [{\"colorbar\": {\"outlinewidth\": 0, \"ticks\": \"\"}, \"type\": \"mesh3d\"}], \"parcoords\": [{\"line\": {\"colorbar\": {\"outlinewidth\": 0, \"ticks\": \"\"}}, \"type\": \"parcoords\"}], \"pie\": [{\"automargin\": true, \"type\": \"pie\"}], \"scatter\": [{\"marker\": {\"colorbar\": {\"outlinewidth\": 0, \"ticks\": \"\"}}, \"type\": \"scatter\"}], \"scatter3d\": [{\"line\": {\"colorbar\": {\"outlinewidth\": 0, \"ticks\": \"\"}}, \"marker\": {\"colorbar\": {\"outlinewidth\": 0, \"ticks\": \"\"}}, \"type\": \"scatter3d\"}], \"scattercarpet\": [{\"marker\": {\"colorbar\": {\"outlinewidth\": 0, \"ticks\": \"\"}}, \"type\": \"scattercarpet\"}], \"scattergeo\": [{\"marker\": {\"colorbar\": {\"outlinewidth\": 0, \"ticks\": \"\"}}, \"type\": \"scattergeo\"}], \"scattergl\": [{\"marker\": {\"colorbar\": {\"outlinewidth\": 0, \"ticks\": \"\"}}, \"type\": \"scattergl\"}], \"scattermapbox\": [{\"marker\": {\"colorbar\": {\"outlinewidth\": 0, \"ticks\": \"\"}}, \"type\": \"scattermapbox\"}], \"scatterpolar\": [{\"marker\": {\"colorbar\": {\"outlinewidth\": 0, \"ticks\": \"\"}}, \"type\": \"scatterpolar\"}], \"scatterpolargl\": [{\"marker\": {\"colorbar\": {\"outlinewidth\": 0, \"ticks\": \"\"}}, \"type\": \"scatterpolargl\"}], \"scatterternary\": [{\"marker\": {\"colorbar\": {\"outlinewidth\": 0, \"ticks\": \"\"}}, \"type\": \"scatterternary\"}], \"surface\": [{\"colorbar\": {\"outlinewidth\": 0, \"ticks\": \"\"}, \"colorscale\": [[0.0, \"#0d0887\"], [0.1111111111111111, \"#46039f\"], [0.2222222222222222, \"#7201a8\"], [0.3333333333333333, \"#9c179e\"], [0.4444444444444444, \"#bd3786\"], [0.5555555555555556, \"#d8576b\"], [0.6666666666666666, \"#ed7953\"], [0.7777777777777778, \"#fb9f3a\"], [0.8888888888888888, \"#fdca26\"], [1.0, \"#f0f921\"]], \"type\": \"surface\"}], \"table\": [{\"cells\": {\"fill\": {\"color\": \"#EBF0F8\"}, \"line\": {\"color\": \"white\"}}, \"header\": {\"fill\": {\"color\": \"#C8D4E3\"}, \"line\": {\"color\": \"white\"}}, \"type\": \"table\"}]}, \"layout\": {\"annotationdefaults\": {\"arrowcolor\": \"#2a3f5f\", \"arrowhead\": 0, \"arrowwidth\": 1}, \"coloraxis\": {\"colorbar\": {\"outlinewidth\": 0, \"ticks\": \"\"}}, \"colorscale\": {\"diverging\": [[0, \"#8e0152\"], [0.1, \"#c51b7d\"], [0.2, \"#de77ae\"], [0.3, \"#f1b6da\"], [0.4, \"#fde0ef\"], [0.5, \"#f7f7f7\"], [0.6, \"#e6f5d0\"], [0.7, \"#b8e186\"], [0.8, \"#7fbc41\"], [0.9, \"#4d9221\"], [1, \"#276419\"]], \"sequential\": [[0.0, \"#0d0887\"], [0.1111111111111111, \"#46039f\"], [0.2222222222222222, \"#7201a8\"], [0.3333333333333333, \"#9c179e\"], [0.4444444444444444, \"#bd3786\"], [0.5555555555555556, \"#d8576b\"], [0.6666666666666666, \"#ed7953\"], [0.7777777777777778, \"#fb9f3a\"], [0.8888888888888888, \"#fdca26\"], [1.0, \"#f0f921\"]], \"sequentialminus\": [[0.0, \"#0d0887\"], [0.1111111111111111, \"#46039f\"], [0.2222222222222222, \"#7201a8\"], [0.3333333333333333, \"#9c179e\"], [0.4444444444444444, \"#bd3786\"], [0.5555555555555556, \"#d8576b\"], [0.6666666666666666, \"#ed7953\"], [0.7777777777777778, \"#fb9f3a\"], [0.8888888888888888, \"#fdca26\"], [1.0, \"#f0f921\"]]}, \"colorway\": [\"#636efa\", \"#EF553B\", \"#00cc96\", \"#ab63fa\", \"#FFA15A\", \"#19d3f3\", \"#FF6692\", \"#B6E880\", \"#FF97FF\", \"#FECB52\"], \"font\": {\"color\": \"#2a3f5f\"}, \"geo\": {\"bgcolor\": \"white\", \"lakecolor\": \"white\", \"landcolor\": \"#E5ECF6\", \"showlakes\": true, \"showland\": true, \"subunitcolor\": \"white\"}, \"hoverlabel\": {\"align\": \"left\"}, \"hovermode\": \"closest\", \"mapbox\": {\"style\": \"light\"}, \"paper_bgcolor\": \"white\", \"plot_bgcolor\": \"#E5ECF6\", \"polar\": {\"angularaxis\": {\"gridcolor\": \"white\", \"linecolor\": \"white\", \"ticks\": \"\"}, \"bgcolor\": \"#E5ECF6\", \"radialaxis\": {\"gridcolor\": \"white\", \"linecolor\": \"white\", \"ticks\": \"\"}}, \"scene\": {\"xaxis\": {\"backgroundcolor\": \"#E5ECF6\", \"gridcolor\": \"white\", \"gridwidth\": 2, \"linecolor\": \"white\", \"showbackground\": true, \"ticks\": \"\", \"zerolinecolor\": \"white\"}, \"yaxis\": {\"backgroundcolor\": \"#E5ECF6\", \"gridcolor\": \"white\", \"gridwidth\": 2, \"linecolor\": \"white\", \"showbackground\": true, \"ticks\": \"\", \"zerolinecolor\": \"white\"}, \"zaxis\": {\"backgroundcolor\": \"#E5ECF6\", \"gridcolor\": \"white\", \"gridwidth\": 2, \"linecolor\": \"white\", \"showbackground\": true, \"ticks\": \"\", \"zerolinecolor\": \"white\"}}, \"shapedefaults\": {\"line\": {\"color\": \"#2a3f5f\"}}, \"ternary\": {\"aaxis\": {\"gridcolor\": \"white\", \"linecolor\": \"white\", \"ticks\": \"\"}, \"baxis\": {\"gridcolor\": \"white\", \"linecolor\": \"white\", \"ticks\": \"\"}, \"bgcolor\": \"#E5ECF6\", \"caxis\": {\"gridcolor\": \"white\", \"linecolor\": \"white\", \"ticks\": \"\"}}, \"title\": {\"x\": 0.05}, \"xaxis\": {\"automargin\": true, \"gridcolor\": \"white\", \"linecolor\": \"white\", \"ticks\": \"\", \"title\": {\"standoff\": 15}, \"zerolinecolor\": \"white\", \"zerolinewidth\": 2}, \"yaxis\": {\"automargin\": true, \"gridcolor\": \"white\", \"linecolor\": \"white\", \"ticks\": \"\", \"title\": {\"standoff\": 15}, \"zerolinecolor\": \"white\", \"zerolinewidth\": 2}}}, \"xaxis\": {\"anchor\": \"y\", \"domain\": [0.0, 1.0], \"matches\": \"x2\", \"showticklabels\": false}, \"xaxis2\": {\"anchor\": \"y2\", \"domain\": [0.0, 1.0]}, \"yaxis\": {\"anchor\": \"x\", \"domain\": [0.18333333333333332, 1.0]}, \"yaxis2\": {\"anchor\": \"x2\", \"domain\": [0.0, 0.16333333333333333]}},\n",
              "                        {\"responsive\": true}\n",
              "                    ).then(function(){\n",
              "                            \n",
              "var gd = document.getElementById('9a29fad5-e34a-4060-bea2-4a189ef1b464');\n",
              "var x = new MutationObserver(function (mutations, observer) {{\n",
              "        var display = window.getComputedStyle(gd).display;\n",
              "        if (!display || display === 'none') {{\n",
              "            console.log([gd, 'removed!']);\n",
              "            Plotly.purge(gd);\n",
              "            observer.disconnect();\n",
              "        }}\n",
              "}});\n",
              "\n",
              "// Listen for the removal of the full notebook cells\n",
              "var notebookContainer = gd.closest('#notebook-container');\n",
              "if (notebookContainer) {{\n",
              "    x.observe(notebookContainer, {childList: true});\n",
              "}}\n",
              "\n",
              "// Listen for the clearing of the current output cell\n",
              "var outputEl = gd.closest('.output');\n",
              "if (outputEl) {{\n",
              "    x.observe(outputEl, {childList: true});\n",
              "}}\n",
              "\n",
              "                        })\n",
              "                };\n",
              "                \n",
              "            </script>\n",
              "        </div>\n",
              "</body>\n",
              "</html>"
            ]
          },
          "metadata": {
            "tags": []
          }
        }
      ]
    },
    {
      "cell_type": "markdown",
      "metadata": {
        "id": "h3W9abSMT-rO",
        "colab_type": "text"
      },
      "source": [
        "After looking at this chart, we can see that there is no x-axis currently. We will add that later when we add the average chart. Also one can see that some boxplots have dots and fences when hovering over a sepcific season (2015 for example). Plotly defaults to this setting and it is confusing to the reader. After some digging, I found that Plotly calculates an interquartile range and the points that fall outside of that range are outliers. This is very confusing for our end viewer and we are trying to look at maximum and minimum values for each season with consistent ploting for each season.  \n",
        "\n",
        "To alieve this problem, we create some customization with the boxpoints setting. I will change the setting in our Plotly figure to boxpoints=False. The reason for this is that I am only interested in the median, quartiles, and max and min values for each season. The chart above does not have this and some of the seasons may have interquartile range determined \"fences\" which makes the graph a bit more hard to read. This was a limitation with plotly's default setting but after some reading we can change the setting with the boxpoints=False function. "
      ]
    },
    {
      "cell_type": "code",
      "metadata": {
        "id": "tziRL5WWT-rP",
        "colab_type": "code",
        "colab": {
          "base_uri": "https://localhost:8080/",
          "height": 542
        },
        "outputId": "fbb58395-5d08-43de-8284-ecfe35d3fcf3"
      },
      "source": [
        "fig.update_traces(boxpoints=False)\n",
        "\n",
        "fig.show()"
      ],
      "execution_count": 10,
      "outputs": [
        {
          "output_type": "display_data",
          "data": {
            "text/html": [
              "<html>\n",
              "<head><meta charset=\"utf-8\" /></head>\n",
              "<body>\n",
              "    <div>\n",
              "            <script src=\"https://cdnjs.cloudflare.com/ajax/libs/mathjax/2.7.5/MathJax.js?config=TeX-AMS-MML_SVG\"></script><script type=\"text/javascript\">if (window.MathJax) {MathJax.Hub.Config({SVG: {font: \"STIX-Web\"}});}</script>\n",
              "                <script type=\"text/javascript\">window.PlotlyConfig = {MathJaxConfig: 'local'};</script>\n",
              "        <script src=\"https://cdn.plot.ly/plotly-latest.min.js\"></script>    \n",
              "            <div id=\"6187a935-09fa-4dbf-977d-515caa25ce11\" class=\"plotly-graph-div\" style=\"height:525px; width:100%;\"></div>\n",
              "            <script type=\"text/javascript\">\n",
              "                \n",
              "                    window.PLOTLYENV=window.PLOTLYENV || {};\n",
              "                    \n",
              "                if (document.getElementById(\"6187a935-09fa-4dbf-977d-515caa25ce11\")) {\n",
              "                    Plotly.newPlot(\n",
              "                        '6187a935-09fa-4dbf-977d-515caa25ce11',\n",
              "                        [{\"boxpoints\": false, \"fillcolor\": \"blue\", \"marker\": {\"color\": \"black\"}, \"name\": \"2001\", \"type\": \"box\", \"y\": [46.0, 168.0, 86.0, 364.0, 202.0, 203.0, 250.0, 107.0, 185.0, 258.0, 213.0, 218.0, 237.0, 108.0, 198.0]}, {\"boxpoints\": false, \"fillcolor\": \"red\", \"marker\": {\"color\": \"black\"}, \"name\": \"2002\", \"type\": \"box\", \"y\": [294.0, 269.0, 410.0, 353.0, 240.0, 183.0, 130.0, 265.0, 328.0, 172.0, 239.0, 210.0, 183.0, 134.0, 133.0, 221.0]}, {\"boxpoints\": false, \"fillcolor\": \"blue\", \"marker\": {\"color\": \"black\"}, \"name\": \"2003\", \"type\": \"box\", \"y\": [123.0, 255.0, 181.0, 289.0, 219.0, 112.0, 283.0, 259.0, 350.0, 212.0, 368.0, 236.0, 163.0, 228.0, 138.0, 204.0]}, {\"boxpoints\": false, \"fillcolor\": \"red\", \"marker\": {\"color\": \"black\"}, \"name\": \"2004\", \"type\": \"box\", \"y\": [335.0, 219.0, 298.0, 76.0, 231.0, 230.0, 271.0, 234.0, 233.0, 315.0, 172.0, 157.0, 260.0, 171.0, 264.0, 226.0]}, {\"boxpoints\": false, \"fillcolor\": \"blue\", \"marker\": {\"color\": \"black\"}, \"name\": \"2005\", \"type\": \"box\", \"y\": [306.0, 270.0, 372.0, 224.0, 350.0, 299.0, 199.0, 265.0, 275.0, 222.0, 248.0, 271.0, 329.0, 258.0, 185.0, 37.0]}, {\"boxpoints\": false, \"fillcolor\": \"red\", \"marker\": {\"color\": \"black\"}, \"name\": \"2006\", \"type\": \"box\", \"y\": [163.0, 220.0, 320.0, 188.0, 140.0, 195.0, 372.0, 201.0, 253.0, 244.0, 267.0, 305.0, 78.0, 109.0, 249.0, 225.0]}, {\"boxpoints\": false, \"fillcolor\": \"blue\", \"marker\": {\"color\": \"black\"}, \"name\": \"2007\", \"type\": \"box\", \"y\": [297.0, 279.0, 311.0, 231.0, 265.0, 388.0, 354.0, 306.0, 255.0, 373.0, 380.0, 257.0, 399.0, 140.0, 215.0, 356.0]}, {\"boxpoints\": false, \"fillcolor\": \"blue\", \"marker\": {\"color\": \"black\"}, \"name\": \"2009\", \"type\": \"box\", \"y\": [378.0, 216.0, 277.0, 258.0, 215.0, 380.0, 308.0, 332.0, 375.0, 310.0, 237.0, 352.0, 192.0, 115.0, 267.0, 186.0]}, {\"boxpoints\": false, \"fillcolor\": \"red\", \"marker\": {\"color\": \"black\"}, \"name\": \"2010\", \"type\": \"box\", \"y\": [258.0, 248.0, 252.0, 153.0, 292.0, 159.0, 240.0, 224.0, 350.0, 186.0, 341.0, 326.0, 369.0, 163.0, 140.0, 199.0]}, {\"boxpoints\": false, \"fillcolor\": \"blue\", \"marker\": {\"color\": \"black\"}, \"name\": \"2011\", \"type\": \"box\", \"y\": [517.0, 423.0, 387.0, 226.0, 321.0, 289.0, 198.0, 342.0, 329.0, 234.0, 361.0, 289.0, 357.0, 320.0, 304.0, 338.0]}, {\"boxpoints\": false, \"fillcolor\": \"red\", \"marker\": {\"color\": \"black\"}, \"name\": \"2012\", \"type\": \"box\", \"y\": [236.0, 316.0, 335.0, 340.0, 223.0, 395.0, 259.0, 304.0, 237.0, 331.0, 323.0, 238.0, 296.0, 443.0, 267.0, 284.0]}, {\"boxpoints\": false, \"fillcolor\": \"blue\", \"marker\": {\"color\": \"black\"}, \"name\": \"2013\", \"type\": \"box\", \"y\": [288.0, 185.0, 225.0, 316.0, 197.0, 269.0, 228.0, 116.0, 432.0, 296.0, 344.0, 371.0, 418.0, 364.0, 172.0, 122.0]}, {\"boxpoints\": false, \"fillcolor\": \"red\", \"marker\": {\"color\": \"black\"}, \"name\": \"2014\", \"type\": \"box\", \"y\": [249.0, 149.0, 234.0, 159.0, 292.0, 361.0, 261.0, 354.0, 333.0, 257.0, 349.0, 245.0, 317.0, 287.0, 182.0, 80.0]}, {\"boxpoints\": false, \"fillcolor\": \"blue\", \"marker\": {\"color\": \"black\"}, \"name\": \"2015\", \"type\": \"box\", \"y\": [288.0, 466.0, 358.0, 275.0, 312.0, 355.0, 356.0, 299.0, 334.0, 277.0, 280.0, 312.0, 226.0, 267.0, 231.0, 134.0]}, {\"boxpoints\": false, \"fillcolor\": \"red\", \"marker\": {\"color\": \"black\"}, \"name\": \"2016\", \"type\": \"box\", \"y\": [406.0, 376.0, 222.0, 315.0, 316.0, 280.0, 286.0, 269.0, 406.0, 188.0, 214.0, 276.0]}, {\"boxpoints\": false, \"fillcolor\": \"blue\", \"marker\": {\"color\": \"black\"}, \"name\": \"2017\", \"type\": \"box\", \"y\": [267.0, 447.0, 378.0, 307.0, 303.0, 257.0, 249.0, 333.0, 266.0, 340.0, 227.0, 258.0, 233.0, 298.0, 224.0, 190.0]}, {\"boxpoints\": false, \"fillcolor\": \"red\", \"marker\": {\"color\": \"black\"}, \"name\": \"2018\", \"type\": \"box\", \"y\": [277.0, 234.0, 133.0, 274.0, 341.0, 340.0, 277.0, 324.0, 294.0, 254.0, 283.0, 311.0, 358.0, 279.0, 126.0, 250.0]}, {\"boxpoints\": false, \"fillcolor\": \"blue\", \"marker\": {\"color\": \"black\"}, \"name\": \"2019\", \"type\": \"box\", \"y\": [341.0, 264.0, 306.0, 150.0, 348.0, 334.0, 249.0, 259.0, 285.0, 216.0, 190.0, 326.0, 169.0, 128.0, 271.0, 221.0]}],\n",
              "                        {\"template\": {\"data\": {\"bar\": [{\"error_x\": {\"color\": \"#2a3f5f\"}, \"error_y\": {\"color\": \"#2a3f5f\"}, \"marker\": {\"line\": {\"color\": \"#E5ECF6\", \"width\": 0.5}}, \"type\": \"bar\"}], \"barpolar\": [{\"marker\": {\"line\": {\"color\": \"#E5ECF6\", \"width\": 0.5}}, \"type\": \"barpolar\"}], \"carpet\": [{\"aaxis\": {\"endlinecolor\": \"#2a3f5f\", \"gridcolor\": \"white\", \"linecolor\": \"white\", \"minorgridcolor\": \"white\", \"startlinecolor\": \"#2a3f5f\"}, \"baxis\": {\"endlinecolor\": \"#2a3f5f\", \"gridcolor\": \"white\", \"linecolor\": \"white\", \"minorgridcolor\": \"white\", \"startlinecolor\": \"#2a3f5f\"}, \"type\": \"carpet\"}], \"choropleth\": [{\"colorbar\": {\"outlinewidth\": 0, \"ticks\": \"\"}, \"type\": \"choropleth\"}], \"contour\": [{\"colorbar\": {\"outlinewidth\": 0, \"ticks\": \"\"}, \"colorscale\": [[0.0, \"#0d0887\"], [0.1111111111111111, \"#46039f\"], [0.2222222222222222, \"#7201a8\"], [0.3333333333333333, \"#9c179e\"], [0.4444444444444444, \"#bd3786\"], [0.5555555555555556, \"#d8576b\"], [0.6666666666666666, \"#ed7953\"], [0.7777777777777778, \"#fb9f3a\"], [0.8888888888888888, \"#fdca26\"], [1.0, \"#f0f921\"]], \"type\": \"contour\"}], \"contourcarpet\": [{\"colorbar\": {\"outlinewidth\": 0, \"ticks\": \"\"}, \"type\": \"contourcarpet\"}], \"heatmap\": [{\"colorbar\": {\"outlinewidth\": 0, \"ticks\": \"\"}, \"colorscale\": [[0.0, \"#0d0887\"], [0.1111111111111111, \"#46039f\"], [0.2222222222222222, \"#7201a8\"], [0.3333333333333333, \"#9c179e\"], [0.4444444444444444, \"#bd3786\"], [0.5555555555555556, \"#d8576b\"], [0.6666666666666666, \"#ed7953\"], [0.7777777777777778, \"#fb9f3a\"], [0.8888888888888888, \"#fdca26\"], [1.0, \"#f0f921\"]], \"type\": \"heatmap\"}], \"heatmapgl\": [{\"colorbar\": {\"outlinewidth\": 0, \"ticks\": \"\"}, \"colorscale\": [[0.0, \"#0d0887\"], [0.1111111111111111, \"#46039f\"], [0.2222222222222222, \"#7201a8\"], [0.3333333333333333, \"#9c179e\"], [0.4444444444444444, \"#bd3786\"], [0.5555555555555556, \"#d8576b\"], [0.6666666666666666, \"#ed7953\"], [0.7777777777777778, \"#fb9f3a\"], [0.8888888888888888, \"#fdca26\"], [1.0, \"#f0f921\"]], \"type\": \"heatmapgl\"}], \"histogram\": [{\"marker\": {\"colorbar\": {\"outlinewidth\": 0, \"ticks\": \"\"}}, \"type\": \"histogram\"}], \"histogram2d\": [{\"colorbar\": {\"outlinewidth\": 0, \"ticks\": \"\"}, \"colorscale\": [[0.0, \"#0d0887\"], [0.1111111111111111, \"#46039f\"], [0.2222222222222222, \"#7201a8\"], [0.3333333333333333, \"#9c179e\"], [0.4444444444444444, \"#bd3786\"], [0.5555555555555556, \"#d8576b\"], [0.6666666666666666, \"#ed7953\"], [0.7777777777777778, \"#fb9f3a\"], [0.8888888888888888, \"#fdca26\"], [1.0, \"#f0f921\"]], \"type\": \"histogram2d\"}], \"histogram2dcontour\": [{\"colorbar\": {\"outlinewidth\": 0, \"ticks\": \"\"}, \"colorscale\": [[0.0, \"#0d0887\"], [0.1111111111111111, \"#46039f\"], [0.2222222222222222, \"#7201a8\"], [0.3333333333333333, \"#9c179e\"], [0.4444444444444444, \"#bd3786\"], [0.5555555555555556, \"#d8576b\"], [0.6666666666666666, \"#ed7953\"], [0.7777777777777778, \"#fb9f3a\"], [0.8888888888888888, \"#fdca26\"], [1.0, \"#f0f921\"]], \"type\": \"histogram2dcontour\"}], \"mesh3d\": [{\"colorbar\": {\"outlinewidth\": 0, \"ticks\": \"\"}, \"type\": \"mesh3d\"}], \"parcoords\": [{\"line\": {\"colorbar\": {\"outlinewidth\": 0, \"ticks\": \"\"}}, \"type\": \"parcoords\"}], \"pie\": [{\"automargin\": true, \"type\": \"pie\"}], \"scatter\": [{\"marker\": {\"colorbar\": {\"outlinewidth\": 0, \"ticks\": \"\"}}, \"type\": \"scatter\"}], \"scatter3d\": [{\"line\": {\"colorbar\": {\"outlinewidth\": 0, \"ticks\": \"\"}}, \"marker\": {\"colorbar\": {\"outlinewidth\": 0, \"ticks\": \"\"}}, \"type\": \"scatter3d\"}], \"scattercarpet\": [{\"marker\": {\"colorbar\": {\"outlinewidth\": 0, \"ticks\": \"\"}}, \"type\": \"scattercarpet\"}], \"scattergeo\": [{\"marker\": {\"colorbar\": {\"outlinewidth\": 0, \"ticks\": \"\"}}, \"type\": \"scattergeo\"}], \"scattergl\": [{\"marker\": {\"colorbar\": {\"outlinewidth\": 0, \"ticks\": \"\"}}, \"type\": \"scattergl\"}], \"scattermapbox\": [{\"marker\": {\"colorbar\": {\"outlinewidth\": 0, \"ticks\": \"\"}}, \"type\": \"scattermapbox\"}], \"scatterpolar\": [{\"marker\": {\"colorbar\": {\"outlinewidth\": 0, \"ticks\": \"\"}}, \"type\": \"scatterpolar\"}], \"scatterpolargl\": [{\"marker\": {\"colorbar\": {\"outlinewidth\": 0, \"ticks\": \"\"}}, \"type\": \"scatterpolargl\"}], \"scatterternary\": [{\"marker\": {\"colorbar\": {\"outlinewidth\": 0, \"ticks\": \"\"}}, \"type\": \"scatterternary\"}], \"surface\": [{\"colorbar\": {\"outlinewidth\": 0, \"ticks\": \"\"}, \"colorscale\": [[0.0, \"#0d0887\"], [0.1111111111111111, \"#46039f\"], [0.2222222222222222, \"#7201a8\"], [0.3333333333333333, \"#9c179e\"], [0.4444444444444444, \"#bd3786\"], [0.5555555555555556, \"#d8576b\"], [0.6666666666666666, \"#ed7953\"], [0.7777777777777778, \"#fb9f3a\"], [0.8888888888888888, \"#fdca26\"], [1.0, \"#f0f921\"]], \"type\": \"surface\"}], \"table\": [{\"cells\": {\"fill\": {\"color\": \"#EBF0F8\"}, \"line\": {\"color\": \"white\"}}, \"header\": {\"fill\": {\"color\": \"#C8D4E3\"}, \"line\": {\"color\": \"white\"}}, \"type\": \"table\"}]}, \"layout\": {\"annotationdefaults\": {\"arrowcolor\": \"#2a3f5f\", \"arrowhead\": 0, \"arrowwidth\": 1}, \"coloraxis\": {\"colorbar\": {\"outlinewidth\": 0, \"ticks\": \"\"}}, \"colorscale\": {\"diverging\": [[0, \"#8e0152\"], [0.1, \"#c51b7d\"], [0.2, \"#de77ae\"], [0.3, \"#f1b6da\"], [0.4, \"#fde0ef\"], [0.5, \"#f7f7f7\"], [0.6, \"#e6f5d0\"], [0.7, \"#b8e186\"], [0.8, \"#7fbc41\"], [0.9, \"#4d9221\"], [1, \"#276419\"]], \"sequential\": [[0.0, \"#0d0887\"], [0.1111111111111111, \"#46039f\"], [0.2222222222222222, \"#7201a8\"], [0.3333333333333333, \"#9c179e\"], [0.4444444444444444, \"#bd3786\"], [0.5555555555555556, \"#d8576b\"], [0.6666666666666666, \"#ed7953\"], [0.7777777777777778, \"#fb9f3a\"], [0.8888888888888888, \"#fdca26\"], [1.0, \"#f0f921\"]], \"sequentialminus\": [[0.0, \"#0d0887\"], [0.1111111111111111, \"#46039f\"], [0.2222222222222222, \"#7201a8\"], [0.3333333333333333, \"#9c179e\"], [0.4444444444444444, \"#bd3786\"], [0.5555555555555556, \"#d8576b\"], [0.6666666666666666, \"#ed7953\"], [0.7777777777777778, \"#fb9f3a\"], [0.8888888888888888, \"#fdca26\"], [1.0, \"#f0f921\"]]}, \"colorway\": [\"#636efa\", \"#EF553B\", \"#00cc96\", \"#ab63fa\", \"#FFA15A\", \"#19d3f3\", \"#FF6692\", \"#B6E880\", \"#FF97FF\", \"#FECB52\"], \"font\": {\"color\": \"#2a3f5f\"}, \"geo\": {\"bgcolor\": \"white\", \"lakecolor\": \"white\", \"landcolor\": \"#E5ECF6\", \"showlakes\": true, \"showland\": true, \"subunitcolor\": \"white\"}, \"hoverlabel\": {\"align\": \"left\"}, \"hovermode\": \"closest\", \"mapbox\": {\"style\": \"light\"}, \"paper_bgcolor\": \"white\", \"plot_bgcolor\": \"#E5ECF6\", \"polar\": {\"angularaxis\": {\"gridcolor\": \"white\", \"linecolor\": \"white\", \"ticks\": \"\"}, \"bgcolor\": \"#E5ECF6\", \"radialaxis\": {\"gridcolor\": \"white\", \"linecolor\": \"white\", \"ticks\": \"\"}}, \"scene\": {\"xaxis\": {\"backgroundcolor\": \"#E5ECF6\", \"gridcolor\": \"white\", \"gridwidth\": 2, \"linecolor\": \"white\", \"showbackground\": true, \"ticks\": \"\", \"zerolinecolor\": \"white\"}, \"yaxis\": {\"backgroundcolor\": \"#E5ECF6\", \"gridcolor\": \"white\", \"gridwidth\": 2, \"linecolor\": \"white\", \"showbackground\": true, \"ticks\": \"\", \"zerolinecolor\": \"white\"}, \"zaxis\": {\"backgroundcolor\": \"#E5ECF6\", \"gridcolor\": \"white\", \"gridwidth\": 2, \"linecolor\": \"white\", \"showbackground\": true, \"ticks\": \"\", \"zerolinecolor\": \"white\"}}, \"shapedefaults\": {\"line\": {\"color\": \"#2a3f5f\"}}, \"ternary\": {\"aaxis\": {\"gridcolor\": \"white\", \"linecolor\": \"white\", \"ticks\": \"\"}, \"baxis\": {\"gridcolor\": \"white\", \"linecolor\": \"white\", \"ticks\": \"\"}, \"bgcolor\": \"#E5ECF6\", \"caxis\": {\"gridcolor\": \"white\", \"linecolor\": \"white\", \"ticks\": \"\"}}, \"title\": {\"x\": 0.05}, \"xaxis\": {\"automargin\": true, \"gridcolor\": \"white\", \"linecolor\": \"white\", \"ticks\": \"\", \"title\": {\"standoff\": 15}, \"zerolinecolor\": \"white\", \"zerolinewidth\": 2}, \"yaxis\": {\"automargin\": true, \"gridcolor\": \"white\", \"linecolor\": \"white\", \"ticks\": \"\", \"title\": {\"standoff\": 15}, \"zerolinecolor\": \"white\", \"zerolinewidth\": 2}}}, \"xaxis\": {\"anchor\": \"y\", \"domain\": [0.0, 1.0], \"matches\": \"x2\", \"showticklabels\": false}, \"xaxis2\": {\"anchor\": \"y2\", \"domain\": [0.0, 1.0]}, \"yaxis\": {\"anchor\": \"x\", \"domain\": [0.18333333333333332, 1.0]}, \"yaxis2\": {\"anchor\": \"x2\", \"domain\": [0.0, 0.16333333333333333]}},\n",
              "                        {\"responsive\": true}\n",
              "                    ).then(function(){\n",
              "                            \n",
              "var gd = document.getElementById('6187a935-09fa-4dbf-977d-515caa25ce11');\n",
              "var x = new MutationObserver(function (mutations, observer) {{\n",
              "        var display = window.getComputedStyle(gd).display;\n",
              "        if (!display || display === 'none') {{\n",
              "            console.log([gd, 'removed!']);\n",
              "            Plotly.purge(gd);\n",
              "            observer.disconnect();\n",
              "        }}\n",
              "}});\n",
              "\n",
              "// Listen for the removal of the full notebook cells\n",
              "var notebookContainer = gd.closest('#notebook-container');\n",
              "if (notebookContainer) {{\n",
              "    x.observe(notebookContainer, {childList: true});\n",
              "}}\n",
              "\n",
              "// Listen for the clearing of the current output cell\n",
              "var outputEl = gd.closest('.output');\n",
              "if (outputEl) {{\n",
              "    x.observe(outputEl, {childList: true});\n",
              "}}\n",
              "\n",
              "                        })\n",
              "                };\n",
              "                \n",
              "            </script>\n",
              "        </div>\n",
              "</body>\n",
              "</html>"
            ]
          },
          "metadata": {
            "tags": []
          }
        }
      ]
    },
    {
      "cell_type": "markdown",
      "metadata": {
        "id": "aLL9nrwrT-rR",
        "colab_type": "text"
      },
      "source": [
        "This chart has more clarity and the end user will not be confused on why some of the plots had dots and fences and some did not. We will now add the second graph below the first graph that will have the average yards per game by season. \n",
        "\n",
        "First we will create a new dataframe that groups our cleaned_df by Year and takes the mean. We will then reset the dataframe's index in order to use the year as our x axis value for our subplots. "
      ]
    },
    {
      "cell_type": "code",
      "metadata": {
        "id": "jeYtX5RWT-rR",
        "colab_type": "code",
        "colab": {
          "base_uri": "https://localhost:8080/",
          "height": 195
        },
        "outputId": "1437c7af-a03a-415e-8d4b-69af7b91905a"
      },
      "source": [
        "average_df = cleaned_df.groupby(['Year']).mean().reset_index()\n",
        "\n",
        "average_df = average_df.round(2)\n",
        "\n",
        "average_df.head()\n"
      ],
      "execution_count": 11,
      "outputs": [
        {
          "output_type": "execute_result",
          "data": {
            "text/html": [
              "<div>\n",
              "<style scoped>\n",
              "    .dataframe tbody tr th:only-of-type {\n",
              "        vertical-align: middle;\n",
              "    }\n",
              "\n",
              "    .dataframe tbody tr th {\n",
              "        vertical-align: top;\n",
              "    }\n",
              "\n",
              "    .dataframe thead th {\n",
              "        text-align: right;\n",
              "    }\n",
              "</style>\n",
              "<table border=\"1\" class=\"dataframe\">\n",
              "  <thead>\n",
              "    <tr style=\"text-align: right;\">\n",
              "      <th></th>\n",
              "      <th>Year</th>\n",
              "      <th>Cmp</th>\n",
              "      <th>Att</th>\n",
              "      <th>Cmp%</th>\n",
              "      <th>Passing Yards</th>\n",
              "      <th>TD</th>\n",
              "      <th>Int</th>\n",
              "    </tr>\n",
              "  </thead>\n",
              "  <tbody>\n",
              "    <tr>\n",
              "      <th>0</th>\n",
              "      <td>2001</td>\n",
              "      <td>17.60</td>\n",
              "      <td>27.53</td>\n",
              "      <td>63.74</td>\n",
              "      <td>189.53</td>\n",
              "      <td>1.20</td>\n",
              "      <td>0.80</td>\n",
              "    </tr>\n",
              "    <tr>\n",
              "      <th>1</th>\n",
              "      <td>2002</td>\n",
              "      <td>23.31</td>\n",
              "      <td>37.56</td>\n",
              "      <td>61.50</td>\n",
              "      <td>235.25</td>\n",
              "      <td>1.75</td>\n",
              "      <td>0.88</td>\n",
              "    </tr>\n",
              "    <tr>\n",
              "      <th>2</th>\n",
              "      <td>2003</td>\n",
              "      <td>19.81</td>\n",
              "      <td>32.94</td>\n",
              "      <td>59.21</td>\n",
              "      <td>226.25</td>\n",
              "      <td>1.44</td>\n",
              "      <td>0.75</td>\n",
              "    </tr>\n",
              "    <tr>\n",
              "      <th>3</th>\n",
              "      <td>2004</td>\n",
              "      <td>18.00</td>\n",
              "      <td>29.62</td>\n",
              "      <td>60.19</td>\n",
              "      <td>230.75</td>\n",
              "      <td>1.75</td>\n",
              "      <td>0.88</td>\n",
              "    </tr>\n",
              "    <tr>\n",
              "      <th>4</th>\n",
              "      <td>2005</td>\n",
              "      <td>20.88</td>\n",
              "      <td>33.12</td>\n",
              "      <td>62.24</td>\n",
              "      <td>256.88</td>\n",
              "      <td>1.62</td>\n",
              "      <td>0.88</td>\n",
              "    </tr>\n",
              "  </tbody>\n",
              "</table>\n",
              "</div>"
            ],
            "text/plain": [
              "   Year    Cmp    Att   Cmp%  Passing Yards    TD   Int\n",
              "0  2001  17.60  27.53  63.74         189.53  1.20  0.80\n",
              "1  2002  23.31  37.56  61.50         235.25  1.75  0.88\n",
              "2  2003  19.81  32.94  59.21         226.25  1.44  0.75\n",
              "3  2004  18.00  29.62  60.19         230.75  1.75  0.88\n",
              "4  2005  20.88  33.12  62.24         256.88  1.62  0.88"
            ]
          },
          "metadata": {
            "tags": []
          },
          "execution_count": 11
        }
      ]
    },
    {
      "cell_type": "markdown",
      "metadata": {
        "id": "i3mziKZsT-rT",
        "colab_type": "text"
      },
      "source": [
        "Creating The Figure (Average Scatter Plot):\n",
        "\n",
        "Now that we have the dataframe we can create our second chart using the 'Year' column as our x axis and the 'Passing Yards' data (in this dataframe average/season). This chart will go in the second row of our subplots"
      ]
    },
    {
      "cell_type": "code",
      "metadata": {
        "id": "zhBS8P61T-rT",
        "colab_type": "code",
        "colab": {
          "base_uri": "https://localhost:8080/",
          "height": 542
        },
        "outputId": "9c8703d5-f0e8-4bb0-d431-02924e07938c"
      },
      "source": [
        "fig.add_trace(go.Scatter(x=average_df['Year'], y=average_df['Passing Yards'], \n",
        "                        mode='lines', name='Average', marker_color='black'),\n",
        "            row=2, col=1)"
      ],
      "execution_count": 12,
      "outputs": [
        {
          "output_type": "display_data",
          "data": {
            "text/html": [
              "<html>\n",
              "<head><meta charset=\"utf-8\" /></head>\n",
              "<body>\n",
              "    <div>\n",
              "            <script src=\"https://cdnjs.cloudflare.com/ajax/libs/mathjax/2.7.5/MathJax.js?config=TeX-AMS-MML_SVG\"></script><script type=\"text/javascript\">if (window.MathJax) {MathJax.Hub.Config({SVG: {font: \"STIX-Web\"}});}</script>\n",
              "                <script type=\"text/javascript\">window.PlotlyConfig = {MathJaxConfig: 'local'};</script>\n",
              "        <script src=\"https://cdn.plot.ly/plotly-latest.min.js\"></script>    \n",
              "            <div id=\"22f98389-a156-4175-b62a-7ad81bcce5a2\" class=\"plotly-graph-div\" style=\"height:525px; width:100%;\"></div>\n",
              "            <script type=\"text/javascript\">\n",
              "                \n",
              "                    window.PLOTLYENV=window.PLOTLYENV || {};\n",
              "                    \n",
              "                if (document.getElementById(\"22f98389-a156-4175-b62a-7ad81bcce5a2\")) {\n",
              "                    Plotly.newPlot(\n",
              "                        '22f98389-a156-4175-b62a-7ad81bcce5a2',\n",
              "                        [{\"boxpoints\": false, \"fillcolor\": \"blue\", \"marker\": {\"color\": \"black\"}, \"name\": \"2001\", \"type\": \"box\", \"y\": [46.0, 168.0, 86.0, 364.0, 202.0, 203.0, 250.0, 107.0, 185.0, 258.0, 213.0, 218.0, 237.0, 108.0, 198.0]}, {\"boxpoints\": false, \"fillcolor\": \"red\", \"marker\": {\"color\": \"black\"}, \"name\": \"2002\", \"type\": \"box\", \"y\": [294.0, 269.0, 410.0, 353.0, 240.0, 183.0, 130.0, 265.0, 328.0, 172.0, 239.0, 210.0, 183.0, 134.0, 133.0, 221.0]}, {\"boxpoints\": false, \"fillcolor\": \"blue\", \"marker\": {\"color\": \"black\"}, \"name\": \"2003\", \"type\": \"box\", \"y\": [123.0, 255.0, 181.0, 289.0, 219.0, 112.0, 283.0, 259.0, 350.0, 212.0, 368.0, 236.0, 163.0, 228.0, 138.0, 204.0]}, {\"boxpoints\": false, \"fillcolor\": \"red\", \"marker\": {\"color\": \"black\"}, \"name\": \"2004\", \"type\": \"box\", \"y\": [335.0, 219.0, 298.0, 76.0, 231.0, 230.0, 271.0, 234.0, 233.0, 315.0, 172.0, 157.0, 260.0, 171.0, 264.0, 226.0]}, {\"boxpoints\": false, \"fillcolor\": \"blue\", \"marker\": {\"color\": \"black\"}, \"name\": \"2005\", \"type\": \"box\", \"y\": [306.0, 270.0, 372.0, 224.0, 350.0, 299.0, 199.0, 265.0, 275.0, 222.0, 248.0, 271.0, 329.0, 258.0, 185.0, 37.0]}, {\"boxpoints\": false, \"fillcolor\": \"red\", \"marker\": {\"color\": \"black\"}, \"name\": \"2006\", \"type\": \"box\", \"y\": [163.0, 220.0, 320.0, 188.0, 140.0, 195.0, 372.0, 201.0, 253.0, 244.0, 267.0, 305.0, 78.0, 109.0, 249.0, 225.0]}, {\"boxpoints\": false, \"fillcolor\": \"blue\", \"marker\": {\"color\": \"black\"}, \"name\": \"2007\", \"type\": \"box\", \"y\": [297.0, 279.0, 311.0, 231.0, 265.0, 388.0, 354.0, 306.0, 255.0, 373.0, 380.0, 257.0, 399.0, 140.0, 215.0, 356.0]}, {\"boxpoints\": false, \"fillcolor\": \"blue\", \"marker\": {\"color\": \"black\"}, \"name\": \"2009\", \"type\": \"box\", \"y\": [378.0, 216.0, 277.0, 258.0, 215.0, 380.0, 308.0, 332.0, 375.0, 310.0, 237.0, 352.0, 192.0, 115.0, 267.0, 186.0]}, {\"boxpoints\": false, \"fillcolor\": \"red\", \"marker\": {\"color\": \"black\"}, \"name\": \"2010\", \"type\": \"box\", \"y\": [258.0, 248.0, 252.0, 153.0, 292.0, 159.0, 240.0, 224.0, 350.0, 186.0, 341.0, 326.0, 369.0, 163.0, 140.0, 199.0]}, {\"boxpoints\": false, \"fillcolor\": \"blue\", \"marker\": {\"color\": \"black\"}, \"name\": \"2011\", \"type\": \"box\", \"y\": [517.0, 423.0, 387.0, 226.0, 321.0, 289.0, 198.0, 342.0, 329.0, 234.0, 361.0, 289.0, 357.0, 320.0, 304.0, 338.0]}, {\"boxpoints\": false, \"fillcolor\": \"red\", \"marker\": {\"color\": \"black\"}, \"name\": \"2012\", \"type\": \"box\", \"y\": [236.0, 316.0, 335.0, 340.0, 223.0, 395.0, 259.0, 304.0, 237.0, 331.0, 323.0, 238.0, 296.0, 443.0, 267.0, 284.0]}, {\"boxpoints\": false, \"fillcolor\": \"blue\", \"marker\": {\"color\": \"black\"}, \"name\": \"2013\", \"type\": \"box\", \"y\": [288.0, 185.0, 225.0, 316.0, 197.0, 269.0, 228.0, 116.0, 432.0, 296.0, 344.0, 371.0, 418.0, 364.0, 172.0, 122.0]}, {\"boxpoints\": false, \"fillcolor\": \"red\", \"marker\": {\"color\": \"black\"}, \"name\": \"2014\", \"type\": \"box\", \"y\": [249.0, 149.0, 234.0, 159.0, 292.0, 361.0, 261.0, 354.0, 333.0, 257.0, 349.0, 245.0, 317.0, 287.0, 182.0, 80.0]}, {\"boxpoints\": false, \"fillcolor\": \"blue\", \"marker\": {\"color\": \"black\"}, \"name\": \"2015\", \"type\": \"box\", \"y\": [288.0, 466.0, 358.0, 275.0, 312.0, 355.0, 356.0, 299.0, 334.0, 277.0, 280.0, 312.0, 226.0, 267.0, 231.0, 134.0]}, {\"boxpoints\": false, \"fillcolor\": \"red\", \"marker\": {\"color\": \"black\"}, \"name\": \"2016\", \"type\": \"box\", \"y\": [406.0, 376.0, 222.0, 315.0, 316.0, 280.0, 286.0, 269.0, 406.0, 188.0, 214.0, 276.0]}, {\"boxpoints\": false, \"fillcolor\": \"blue\", \"marker\": {\"color\": \"black\"}, \"name\": \"2017\", \"type\": \"box\", \"y\": [267.0, 447.0, 378.0, 307.0, 303.0, 257.0, 249.0, 333.0, 266.0, 340.0, 227.0, 258.0, 233.0, 298.0, 224.0, 190.0]}, {\"boxpoints\": false, \"fillcolor\": \"red\", \"marker\": {\"color\": \"black\"}, \"name\": \"2018\", \"type\": \"box\", \"y\": [277.0, 234.0, 133.0, 274.0, 341.0, 340.0, 277.0, 324.0, 294.0, 254.0, 283.0, 311.0, 358.0, 279.0, 126.0, 250.0]}, {\"boxpoints\": false, \"fillcolor\": \"blue\", \"marker\": {\"color\": \"black\"}, \"name\": \"2019\", \"type\": \"box\", \"y\": [341.0, 264.0, 306.0, 150.0, 348.0, 334.0, 249.0, 259.0, 285.0, 216.0, 190.0, 326.0, 169.0, 128.0, 271.0, 221.0]}, {\"marker\": {\"color\": \"black\"}, \"mode\": \"lines\", \"name\": \"Average\", \"type\": \"scatter\", \"x\": [\"2001\", \"2002\", \"2003\", \"2004\", \"2005\", \"2006\", \"2007\", \"2009\", \"2010\", \"2011\", \"2012\", \"2013\", \"2014\", \"2015\", \"2016\", \"2017\", \"2018\", \"2019\"], \"xaxis\": \"x2\", \"y\": [189.53, 235.25, 226.25, 230.75, 256.88, 220.56, 300.38, 274.88, 243.75, 327.19, 301.69, 271.44, 256.81, 298.12, 296.17, 286.06, 272.19, 253.56], \"yaxis\": \"y2\"}],\n",
              "                        {\"template\": {\"data\": {\"bar\": [{\"error_x\": {\"color\": \"#2a3f5f\"}, \"error_y\": {\"color\": \"#2a3f5f\"}, \"marker\": {\"line\": {\"color\": \"#E5ECF6\", \"width\": 0.5}}, \"type\": \"bar\"}], \"barpolar\": [{\"marker\": {\"line\": {\"color\": \"#E5ECF6\", \"width\": 0.5}}, \"type\": \"barpolar\"}], \"carpet\": [{\"aaxis\": {\"endlinecolor\": \"#2a3f5f\", \"gridcolor\": \"white\", \"linecolor\": \"white\", \"minorgridcolor\": \"white\", \"startlinecolor\": \"#2a3f5f\"}, \"baxis\": {\"endlinecolor\": \"#2a3f5f\", \"gridcolor\": \"white\", \"linecolor\": \"white\", \"minorgridcolor\": \"white\", \"startlinecolor\": \"#2a3f5f\"}, \"type\": \"carpet\"}], \"choropleth\": [{\"colorbar\": {\"outlinewidth\": 0, \"ticks\": \"\"}, \"type\": \"choropleth\"}], \"contour\": [{\"colorbar\": {\"outlinewidth\": 0, \"ticks\": \"\"}, \"colorscale\": [[0.0, \"#0d0887\"], [0.1111111111111111, \"#46039f\"], [0.2222222222222222, \"#7201a8\"], [0.3333333333333333, \"#9c179e\"], [0.4444444444444444, \"#bd3786\"], [0.5555555555555556, \"#d8576b\"], [0.6666666666666666, \"#ed7953\"], [0.7777777777777778, \"#fb9f3a\"], [0.8888888888888888, \"#fdca26\"], [1.0, \"#f0f921\"]], \"type\": \"contour\"}], \"contourcarpet\": [{\"colorbar\": {\"outlinewidth\": 0, \"ticks\": \"\"}, \"type\": \"contourcarpet\"}], \"heatmap\": [{\"colorbar\": {\"outlinewidth\": 0, \"ticks\": \"\"}, \"colorscale\": [[0.0, \"#0d0887\"], [0.1111111111111111, \"#46039f\"], [0.2222222222222222, \"#7201a8\"], [0.3333333333333333, \"#9c179e\"], [0.4444444444444444, \"#bd3786\"], [0.5555555555555556, \"#d8576b\"], [0.6666666666666666, \"#ed7953\"], [0.7777777777777778, \"#fb9f3a\"], [0.8888888888888888, \"#fdca26\"], [1.0, \"#f0f921\"]], \"type\": \"heatmap\"}], \"heatmapgl\": [{\"colorbar\": {\"outlinewidth\": 0, \"ticks\": \"\"}, \"colorscale\": [[0.0, \"#0d0887\"], [0.1111111111111111, \"#46039f\"], [0.2222222222222222, \"#7201a8\"], [0.3333333333333333, \"#9c179e\"], [0.4444444444444444, \"#bd3786\"], [0.5555555555555556, \"#d8576b\"], [0.6666666666666666, \"#ed7953\"], [0.7777777777777778, \"#fb9f3a\"], [0.8888888888888888, \"#fdca26\"], [1.0, \"#f0f921\"]], \"type\": \"heatmapgl\"}], \"histogram\": [{\"marker\": {\"colorbar\": {\"outlinewidth\": 0, \"ticks\": \"\"}}, \"type\": \"histogram\"}], \"histogram2d\": [{\"colorbar\": {\"outlinewidth\": 0, \"ticks\": \"\"}, \"colorscale\": [[0.0, \"#0d0887\"], [0.1111111111111111, \"#46039f\"], [0.2222222222222222, \"#7201a8\"], [0.3333333333333333, \"#9c179e\"], [0.4444444444444444, \"#bd3786\"], [0.5555555555555556, \"#d8576b\"], [0.6666666666666666, \"#ed7953\"], [0.7777777777777778, \"#fb9f3a\"], [0.8888888888888888, \"#fdca26\"], [1.0, \"#f0f921\"]], \"type\": \"histogram2d\"}], \"histogram2dcontour\": [{\"colorbar\": {\"outlinewidth\": 0, \"ticks\": \"\"}, \"colorscale\": [[0.0, \"#0d0887\"], [0.1111111111111111, \"#46039f\"], [0.2222222222222222, \"#7201a8\"], [0.3333333333333333, \"#9c179e\"], [0.4444444444444444, \"#bd3786\"], [0.5555555555555556, \"#d8576b\"], [0.6666666666666666, \"#ed7953\"], [0.7777777777777778, \"#fb9f3a\"], [0.8888888888888888, \"#fdca26\"], [1.0, \"#f0f921\"]], \"type\": \"histogram2dcontour\"}], \"mesh3d\": [{\"colorbar\": {\"outlinewidth\": 0, \"ticks\": \"\"}, \"type\": \"mesh3d\"}], \"parcoords\": [{\"line\": {\"colorbar\": {\"outlinewidth\": 0, \"ticks\": \"\"}}, \"type\": \"parcoords\"}], \"pie\": [{\"automargin\": true, \"type\": \"pie\"}], \"scatter\": [{\"marker\": {\"colorbar\": {\"outlinewidth\": 0, \"ticks\": \"\"}}, \"type\": \"scatter\"}], \"scatter3d\": [{\"line\": {\"colorbar\": {\"outlinewidth\": 0, \"ticks\": \"\"}}, \"marker\": {\"colorbar\": {\"outlinewidth\": 0, \"ticks\": \"\"}}, \"type\": \"scatter3d\"}], \"scattercarpet\": [{\"marker\": {\"colorbar\": {\"outlinewidth\": 0, \"ticks\": \"\"}}, \"type\": \"scattercarpet\"}], \"scattergeo\": [{\"marker\": {\"colorbar\": {\"outlinewidth\": 0, \"ticks\": \"\"}}, \"type\": \"scattergeo\"}], \"scattergl\": [{\"marker\": {\"colorbar\": {\"outlinewidth\": 0, \"ticks\": \"\"}}, \"type\": \"scattergl\"}], \"scattermapbox\": [{\"marker\": {\"colorbar\": {\"outlinewidth\": 0, \"ticks\": \"\"}}, \"type\": \"scattermapbox\"}], \"scatterpolar\": [{\"marker\": {\"colorbar\": {\"outlinewidth\": 0, \"ticks\": \"\"}}, \"type\": \"scatterpolar\"}], \"scatterpolargl\": [{\"marker\": {\"colorbar\": {\"outlinewidth\": 0, \"ticks\": \"\"}}, \"type\": \"scatterpolargl\"}], \"scatterternary\": [{\"marker\": {\"colorbar\": {\"outlinewidth\": 0, \"ticks\": \"\"}}, \"type\": \"scatterternary\"}], \"surface\": [{\"colorbar\": {\"outlinewidth\": 0, \"ticks\": \"\"}, \"colorscale\": [[0.0, \"#0d0887\"], [0.1111111111111111, \"#46039f\"], [0.2222222222222222, \"#7201a8\"], [0.3333333333333333, \"#9c179e\"], [0.4444444444444444, \"#bd3786\"], [0.5555555555555556, \"#d8576b\"], [0.6666666666666666, \"#ed7953\"], [0.7777777777777778, \"#fb9f3a\"], [0.8888888888888888, \"#fdca26\"], [1.0, \"#f0f921\"]], \"type\": \"surface\"}], \"table\": [{\"cells\": {\"fill\": {\"color\": \"#EBF0F8\"}, \"line\": {\"color\": \"white\"}}, \"header\": {\"fill\": {\"color\": \"#C8D4E3\"}, \"line\": {\"color\": \"white\"}}, \"type\": \"table\"}]}, \"layout\": {\"annotationdefaults\": {\"arrowcolor\": \"#2a3f5f\", \"arrowhead\": 0, \"arrowwidth\": 1}, \"coloraxis\": {\"colorbar\": {\"outlinewidth\": 0, \"ticks\": \"\"}}, \"colorscale\": {\"diverging\": [[0, \"#8e0152\"], [0.1, \"#c51b7d\"], [0.2, \"#de77ae\"], [0.3, \"#f1b6da\"], [0.4, \"#fde0ef\"], [0.5, \"#f7f7f7\"], [0.6, \"#e6f5d0\"], [0.7, \"#b8e186\"], [0.8, \"#7fbc41\"], [0.9, \"#4d9221\"], [1, \"#276419\"]], \"sequential\": [[0.0, \"#0d0887\"], [0.1111111111111111, \"#46039f\"], [0.2222222222222222, \"#7201a8\"], [0.3333333333333333, \"#9c179e\"], [0.4444444444444444, \"#bd3786\"], [0.5555555555555556, \"#d8576b\"], [0.6666666666666666, \"#ed7953\"], [0.7777777777777778, \"#fb9f3a\"], [0.8888888888888888, \"#fdca26\"], [1.0, \"#f0f921\"]], \"sequentialminus\": [[0.0, \"#0d0887\"], [0.1111111111111111, \"#46039f\"], [0.2222222222222222, \"#7201a8\"], [0.3333333333333333, \"#9c179e\"], [0.4444444444444444, \"#bd3786\"], [0.5555555555555556, \"#d8576b\"], [0.6666666666666666, \"#ed7953\"], [0.7777777777777778, \"#fb9f3a\"], [0.8888888888888888, \"#fdca26\"], [1.0, \"#f0f921\"]]}, \"colorway\": [\"#636efa\", \"#EF553B\", \"#00cc96\", \"#ab63fa\", \"#FFA15A\", \"#19d3f3\", \"#FF6692\", \"#B6E880\", \"#FF97FF\", \"#FECB52\"], \"font\": {\"color\": \"#2a3f5f\"}, \"geo\": {\"bgcolor\": \"white\", \"lakecolor\": \"white\", \"landcolor\": \"#E5ECF6\", \"showlakes\": true, \"showland\": true, \"subunitcolor\": \"white\"}, \"hoverlabel\": {\"align\": \"left\"}, \"hovermode\": \"closest\", \"mapbox\": {\"style\": \"light\"}, \"paper_bgcolor\": \"white\", \"plot_bgcolor\": \"#E5ECF6\", \"polar\": {\"angularaxis\": {\"gridcolor\": \"white\", \"linecolor\": \"white\", \"ticks\": \"\"}, \"bgcolor\": \"#E5ECF6\", \"radialaxis\": {\"gridcolor\": \"white\", \"linecolor\": \"white\", \"ticks\": \"\"}}, \"scene\": {\"xaxis\": {\"backgroundcolor\": \"#E5ECF6\", \"gridcolor\": \"white\", \"gridwidth\": 2, \"linecolor\": \"white\", \"showbackground\": true, \"ticks\": \"\", \"zerolinecolor\": \"white\"}, \"yaxis\": {\"backgroundcolor\": \"#E5ECF6\", \"gridcolor\": \"white\", \"gridwidth\": 2, \"linecolor\": \"white\", \"showbackground\": true, \"ticks\": \"\", \"zerolinecolor\": \"white\"}, \"zaxis\": {\"backgroundcolor\": \"#E5ECF6\", \"gridcolor\": \"white\", \"gridwidth\": 2, \"linecolor\": \"white\", \"showbackground\": true, \"ticks\": \"\", \"zerolinecolor\": \"white\"}}, \"shapedefaults\": {\"line\": {\"color\": \"#2a3f5f\"}}, \"ternary\": {\"aaxis\": {\"gridcolor\": \"white\", \"linecolor\": \"white\", \"ticks\": \"\"}, \"baxis\": {\"gridcolor\": \"white\", \"linecolor\": \"white\", \"ticks\": \"\"}, \"bgcolor\": \"#E5ECF6\", \"caxis\": {\"gridcolor\": \"white\", \"linecolor\": \"white\", \"ticks\": \"\"}}, \"title\": {\"x\": 0.05}, \"xaxis\": {\"automargin\": true, \"gridcolor\": \"white\", \"linecolor\": \"white\", \"ticks\": \"\", \"title\": {\"standoff\": 15}, \"zerolinecolor\": \"white\", \"zerolinewidth\": 2}, \"yaxis\": {\"automargin\": true, \"gridcolor\": \"white\", \"linecolor\": \"white\", \"ticks\": \"\", \"title\": {\"standoff\": 15}, \"zerolinecolor\": \"white\", \"zerolinewidth\": 2}}}, \"xaxis\": {\"anchor\": \"y\", \"domain\": [0.0, 1.0], \"matches\": \"x2\", \"showticklabels\": false}, \"xaxis2\": {\"anchor\": \"y2\", \"domain\": [0.0, 1.0]}, \"yaxis\": {\"anchor\": \"x\", \"domain\": [0.18333333333333332, 1.0]}, \"yaxis2\": {\"anchor\": \"x2\", \"domain\": [0.0, 0.16333333333333333]}},\n",
              "                        {\"responsive\": true}\n",
              "                    ).then(function(){\n",
              "                            \n",
              "var gd = document.getElementById('22f98389-a156-4175-b62a-7ad81bcce5a2');\n",
              "var x = new MutationObserver(function (mutations, observer) {{\n",
              "        var display = window.getComputedStyle(gd).display;\n",
              "        if (!display || display === 'none') {{\n",
              "            console.log([gd, 'removed!']);\n",
              "            Plotly.purge(gd);\n",
              "            observer.disconnect();\n",
              "        }}\n",
              "}});\n",
              "\n",
              "// Listen for the removal of the full notebook cells\n",
              "var notebookContainer = gd.closest('#notebook-container');\n",
              "if (notebookContainer) {{\n",
              "    x.observe(notebookContainer, {childList: true});\n",
              "}}\n",
              "\n",
              "// Listen for the clearing of the current output cell\n",
              "var outputEl = gd.closest('.output');\n",
              "if (outputEl) {{\n",
              "    x.observe(outputEl, {childList: true});\n",
              "}}\n",
              "\n",
              "                        })\n",
              "                };\n",
              "                \n",
              "            </script>\n",
              "        </div>\n",
              "</body>\n",
              "</html>"
            ]
          },
          "metadata": {
            "tags": []
          }
        }
      ]
    },
    {
      "cell_type": "markdown",
      "metadata": {
        "id": "nejNguINT-rW",
        "colab_type": "text"
      },
      "source": [
        "As you can see we now have x-axis data but to add clarity we now want to update the X-axes with a better angle and ensure that that each season is represented in the figure by setting tickvals = year_list. \n",
        "\n",
        "I then added a title to the chart 'Tom Brady Passing Yards Distribution by Season' and centered the title above the figure using x and y coordinates. I also changed the coloration of the plot background to make it easier to read and then titled the y axis of the first chart 'Yards/Game' and second chart 'Average/Game' the x axis will be 'Season.' "
      ]
    },
    {
      "cell_type": "code",
      "metadata": {
        "id": "rz6GQvxmT-rW",
        "colab_type": "code",
        "colab": {
          "base_uri": "https://localhost:8080/",
          "height": 542
        },
        "outputId": "8a2f68b3-3916-46e8-9de4-64a9b2ca59d3"
      },
      "source": [
        "fig.update_xaxes(tickangle=90, tickvals = year_list)\n",
        "\n",
        "fig.update_layout(title={'text':'Tom Brady Passing Yards Distribution by Season',\n",
        "                         'x':0.5, 'y':0.9,}, plot_bgcolor='rgb(243, 243, 243)')\n",
        "\n",
        "fig.update_xaxes(title_text=\"Season\", row=2, col=1)\n",
        "fig.update_yaxes(title_text=\"Yards/Game\", row=1, col=1)\n",
        "fig.update_yaxes(title_text=\"Average/Game\", row=2, col=1)\n",
        "\n",
        "fig.show()"
      ],
      "execution_count": 13,
      "outputs": [
        {
          "output_type": "display_data",
          "data": {
            "text/html": [
              "<html>\n",
              "<head><meta charset=\"utf-8\" /></head>\n",
              "<body>\n",
              "    <div>\n",
              "            <script src=\"https://cdnjs.cloudflare.com/ajax/libs/mathjax/2.7.5/MathJax.js?config=TeX-AMS-MML_SVG\"></script><script type=\"text/javascript\">if (window.MathJax) {MathJax.Hub.Config({SVG: {font: \"STIX-Web\"}});}</script>\n",
              "                <script type=\"text/javascript\">window.PlotlyConfig = {MathJaxConfig: 'local'};</script>\n",
              "        <script src=\"https://cdn.plot.ly/plotly-latest.min.js\"></script>    \n",
              "            <div id=\"81d0ed02-e1fc-4393-b7c4-b4b6c8b0d9c1\" class=\"plotly-graph-div\" style=\"height:525px; width:100%;\"></div>\n",
              "            <script type=\"text/javascript\">\n",
              "                \n",
              "                    window.PLOTLYENV=window.PLOTLYENV || {};\n",
              "                    \n",
              "                if (document.getElementById(\"81d0ed02-e1fc-4393-b7c4-b4b6c8b0d9c1\")) {\n",
              "                    Plotly.newPlot(\n",
              "                        '81d0ed02-e1fc-4393-b7c4-b4b6c8b0d9c1',\n",
              "                        [{\"boxpoints\": false, \"fillcolor\": \"blue\", \"marker\": {\"color\": \"black\"}, \"name\": \"2001\", \"type\": \"box\", \"y\": [46.0, 168.0, 86.0, 364.0, 202.0, 203.0, 250.0, 107.0, 185.0, 258.0, 213.0, 218.0, 237.0, 108.0, 198.0]}, {\"boxpoints\": false, \"fillcolor\": \"red\", \"marker\": {\"color\": \"black\"}, \"name\": \"2002\", \"type\": \"box\", \"y\": [294.0, 269.0, 410.0, 353.0, 240.0, 183.0, 130.0, 265.0, 328.0, 172.0, 239.0, 210.0, 183.0, 134.0, 133.0, 221.0]}, {\"boxpoints\": false, \"fillcolor\": \"blue\", \"marker\": {\"color\": \"black\"}, \"name\": \"2003\", \"type\": \"box\", \"y\": [123.0, 255.0, 181.0, 289.0, 219.0, 112.0, 283.0, 259.0, 350.0, 212.0, 368.0, 236.0, 163.0, 228.0, 138.0, 204.0]}, {\"boxpoints\": false, \"fillcolor\": \"red\", \"marker\": {\"color\": \"black\"}, \"name\": \"2004\", \"type\": \"box\", \"y\": [335.0, 219.0, 298.0, 76.0, 231.0, 230.0, 271.0, 234.0, 233.0, 315.0, 172.0, 157.0, 260.0, 171.0, 264.0, 226.0]}, {\"boxpoints\": false, \"fillcolor\": \"blue\", \"marker\": {\"color\": \"black\"}, \"name\": \"2005\", \"type\": \"box\", \"y\": [306.0, 270.0, 372.0, 224.0, 350.0, 299.0, 199.0, 265.0, 275.0, 222.0, 248.0, 271.0, 329.0, 258.0, 185.0, 37.0]}, {\"boxpoints\": false, \"fillcolor\": \"red\", \"marker\": {\"color\": \"black\"}, \"name\": \"2006\", \"type\": \"box\", \"y\": [163.0, 220.0, 320.0, 188.0, 140.0, 195.0, 372.0, 201.0, 253.0, 244.0, 267.0, 305.0, 78.0, 109.0, 249.0, 225.0]}, {\"boxpoints\": false, \"fillcolor\": \"blue\", \"marker\": {\"color\": \"black\"}, \"name\": \"2007\", \"type\": \"box\", \"y\": [297.0, 279.0, 311.0, 231.0, 265.0, 388.0, 354.0, 306.0, 255.0, 373.0, 380.0, 257.0, 399.0, 140.0, 215.0, 356.0]}, {\"boxpoints\": false, \"fillcolor\": \"blue\", \"marker\": {\"color\": \"black\"}, \"name\": \"2009\", \"type\": \"box\", \"y\": [378.0, 216.0, 277.0, 258.0, 215.0, 380.0, 308.0, 332.0, 375.0, 310.0, 237.0, 352.0, 192.0, 115.0, 267.0, 186.0]}, {\"boxpoints\": false, \"fillcolor\": \"red\", \"marker\": {\"color\": \"black\"}, \"name\": \"2010\", \"type\": \"box\", \"y\": [258.0, 248.0, 252.0, 153.0, 292.0, 159.0, 240.0, 224.0, 350.0, 186.0, 341.0, 326.0, 369.0, 163.0, 140.0, 199.0]}, {\"boxpoints\": false, \"fillcolor\": \"blue\", \"marker\": {\"color\": \"black\"}, \"name\": \"2011\", \"type\": \"box\", \"y\": [517.0, 423.0, 387.0, 226.0, 321.0, 289.0, 198.0, 342.0, 329.0, 234.0, 361.0, 289.0, 357.0, 320.0, 304.0, 338.0]}, {\"boxpoints\": false, \"fillcolor\": \"red\", \"marker\": {\"color\": \"black\"}, \"name\": \"2012\", \"type\": \"box\", \"y\": [236.0, 316.0, 335.0, 340.0, 223.0, 395.0, 259.0, 304.0, 237.0, 331.0, 323.0, 238.0, 296.0, 443.0, 267.0, 284.0]}, {\"boxpoints\": false, \"fillcolor\": \"blue\", \"marker\": {\"color\": \"black\"}, \"name\": \"2013\", \"type\": \"box\", \"y\": [288.0, 185.0, 225.0, 316.0, 197.0, 269.0, 228.0, 116.0, 432.0, 296.0, 344.0, 371.0, 418.0, 364.0, 172.0, 122.0]}, {\"boxpoints\": false, \"fillcolor\": \"red\", \"marker\": {\"color\": \"black\"}, \"name\": \"2014\", \"type\": \"box\", \"y\": [249.0, 149.0, 234.0, 159.0, 292.0, 361.0, 261.0, 354.0, 333.0, 257.0, 349.0, 245.0, 317.0, 287.0, 182.0, 80.0]}, {\"boxpoints\": false, \"fillcolor\": \"blue\", \"marker\": {\"color\": \"black\"}, \"name\": \"2015\", \"type\": \"box\", \"y\": [288.0, 466.0, 358.0, 275.0, 312.0, 355.0, 356.0, 299.0, 334.0, 277.0, 280.0, 312.0, 226.0, 267.0, 231.0, 134.0]}, {\"boxpoints\": false, \"fillcolor\": \"red\", \"marker\": {\"color\": \"black\"}, \"name\": \"2016\", \"type\": \"box\", \"y\": [406.0, 376.0, 222.0, 315.0, 316.0, 280.0, 286.0, 269.0, 406.0, 188.0, 214.0, 276.0]}, {\"boxpoints\": false, \"fillcolor\": \"blue\", \"marker\": {\"color\": \"black\"}, \"name\": \"2017\", \"type\": \"box\", \"y\": [267.0, 447.0, 378.0, 307.0, 303.0, 257.0, 249.0, 333.0, 266.0, 340.0, 227.0, 258.0, 233.0, 298.0, 224.0, 190.0]}, {\"boxpoints\": false, \"fillcolor\": \"red\", \"marker\": {\"color\": \"black\"}, \"name\": \"2018\", \"type\": \"box\", \"y\": [277.0, 234.0, 133.0, 274.0, 341.0, 340.0, 277.0, 324.0, 294.0, 254.0, 283.0, 311.0, 358.0, 279.0, 126.0, 250.0]}, {\"boxpoints\": false, \"fillcolor\": \"blue\", \"marker\": {\"color\": \"black\"}, \"name\": \"2019\", \"type\": \"box\", \"y\": [341.0, 264.0, 306.0, 150.0, 348.0, 334.0, 249.0, 259.0, 285.0, 216.0, 190.0, 326.0, 169.0, 128.0, 271.0, 221.0]}, {\"marker\": {\"color\": \"black\"}, \"mode\": \"lines\", \"name\": \"Average\", \"type\": \"scatter\", \"x\": [\"2001\", \"2002\", \"2003\", \"2004\", \"2005\", \"2006\", \"2007\", \"2009\", \"2010\", \"2011\", \"2012\", \"2013\", \"2014\", \"2015\", \"2016\", \"2017\", \"2018\", \"2019\"], \"xaxis\": \"x2\", \"y\": [189.53, 235.25, 226.25, 230.75, 256.88, 220.56, 300.38, 274.88, 243.75, 327.19, 301.69, 271.44, 256.81, 298.12, 296.17, 286.06, 272.19, 253.56], \"yaxis\": \"y2\"}],\n",
              "                        {\"plot_bgcolor\": \"rgb(243, 243, 243)\", \"template\": {\"data\": {\"bar\": [{\"error_x\": {\"color\": \"#2a3f5f\"}, \"error_y\": {\"color\": \"#2a3f5f\"}, \"marker\": {\"line\": {\"color\": \"#E5ECF6\", \"width\": 0.5}}, \"type\": \"bar\"}], \"barpolar\": [{\"marker\": {\"line\": {\"color\": \"#E5ECF6\", \"width\": 0.5}}, \"type\": \"barpolar\"}], \"carpet\": [{\"aaxis\": {\"endlinecolor\": \"#2a3f5f\", \"gridcolor\": \"white\", \"linecolor\": \"white\", \"minorgridcolor\": \"white\", \"startlinecolor\": \"#2a3f5f\"}, \"baxis\": {\"endlinecolor\": \"#2a3f5f\", \"gridcolor\": \"white\", \"linecolor\": \"white\", \"minorgridcolor\": \"white\", \"startlinecolor\": \"#2a3f5f\"}, \"type\": \"carpet\"}], \"choropleth\": [{\"colorbar\": {\"outlinewidth\": 0, \"ticks\": \"\"}, \"type\": \"choropleth\"}], \"contour\": [{\"colorbar\": {\"outlinewidth\": 0, \"ticks\": \"\"}, \"colorscale\": [[0.0, \"#0d0887\"], [0.1111111111111111, \"#46039f\"], [0.2222222222222222, \"#7201a8\"], [0.3333333333333333, \"#9c179e\"], [0.4444444444444444, \"#bd3786\"], [0.5555555555555556, \"#d8576b\"], [0.6666666666666666, \"#ed7953\"], [0.7777777777777778, \"#fb9f3a\"], [0.8888888888888888, \"#fdca26\"], [1.0, \"#f0f921\"]], \"type\": \"contour\"}], \"contourcarpet\": [{\"colorbar\": {\"outlinewidth\": 0, \"ticks\": \"\"}, \"type\": \"contourcarpet\"}], \"heatmap\": [{\"colorbar\": {\"outlinewidth\": 0, \"ticks\": \"\"}, \"colorscale\": [[0.0, \"#0d0887\"], [0.1111111111111111, \"#46039f\"], [0.2222222222222222, \"#7201a8\"], [0.3333333333333333, \"#9c179e\"], [0.4444444444444444, \"#bd3786\"], [0.5555555555555556, \"#d8576b\"], [0.6666666666666666, \"#ed7953\"], [0.7777777777777778, \"#fb9f3a\"], [0.8888888888888888, \"#fdca26\"], [1.0, \"#f0f921\"]], \"type\": \"heatmap\"}], \"heatmapgl\": [{\"colorbar\": {\"outlinewidth\": 0, \"ticks\": \"\"}, \"colorscale\": [[0.0, \"#0d0887\"], [0.1111111111111111, \"#46039f\"], [0.2222222222222222, \"#7201a8\"], [0.3333333333333333, \"#9c179e\"], [0.4444444444444444, \"#bd3786\"], [0.5555555555555556, \"#d8576b\"], [0.6666666666666666, \"#ed7953\"], [0.7777777777777778, \"#fb9f3a\"], [0.8888888888888888, \"#fdca26\"], [1.0, \"#f0f921\"]], \"type\": \"heatmapgl\"}], \"histogram\": [{\"marker\": {\"colorbar\": {\"outlinewidth\": 0, \"ticks\": \"\"}}, \"type\": \"histogram\"}], \"histogram2d\": [{\"colorbar\": {\"outlinewidth\": 0, \"ticks\": \"\"}, \"colorscale\": [[0.0, \"#0d0887\"], [0.1111111111111111, \"#46039f\"], [0.2222222222222222, \"#7201a8\"], [0.3333333333333333, \"#9c179e\"], [0.4444444444444444, \"#bd3786\"], [0.5555555555555556, \"#d8576b\"], [0.6666666666666666, \"#ed7953\"], [0.7777777777777778, \"#fb9f3a\"], [0.8888888888888888, \"#fdca26\"], [1.0, \"#f0f921\"]], \"type\": \"histogram2d\"}], \"histogram2dcontour\": [{\"colorbar\": {\"outlinewidth\": 0, \"ticks\": \"\"}, \"colorscale\": [[0.0, \"#0d0887\"], [0.1111111111111111, \"#46039f\"], [0.2222222222222222, \"#7201a8\"], [0.3333333333333333, \"#9c179e\"], [0.4444444444444444, \"#bd3786\"], [0.5555555555555556, \"#d8576b\"], [0.6666666666666666, \"#ed7953\"], [0.7777777777777778, \"#fb9f3a\"], [0.8888888888888888, \"#fdca26\"], [1.0, \"#f0f921\"]], \"type\": \"histogram2dcontour\"}], \"mesh3d\": [{\"colorbar\": {\"outlinewidth\": 0, \"ticks\": \"\"}, \"type\": \"mesh3d\"}], \"parcoords\": [{\"line\": {\"colorbar\": {\"outlinewidth\": 0, \"ticks\": \"\"}}, \"type\": \"parcoords\"}], \"pie\": [{\"automargin\": true, \"type\": \"pie\"}], \"scatter\": [{\"marker\": {\"colorbar\": {\"outlinewidth\": 0, \"ticks\": \"\"}}, \"type\": \"scatter\"}], \"scatter3d\": [{\"line\": {\"colorbar\": {\"outlinewidth\": 0, \"ticks\": \"\"}}, \"marker\": {\"colorbar\": {\"outlinewidth\": 0, \"ticks\": \"\"}}, \"type\": \"scatter3d\"}], \"scattercarpet\": [{\"marker\": {\"colorbar\": {\"outlinewidth\": 0, \"ticks\": \"\"}}, \"type\": \"scattercarpet\"}], \"scattergeo\": [{\"marker\": {\"colorbar\": {\"outlinewidth\": 0, \"ticks\": \"\"}}, \"type\": \"scattergeo\"}], \"scattergl\": [{\"marker\": {\"colorbar\": {\"outlinewidth\": 0, \"ticks\": \"\"}}, \"type\": \"scattergl\"}], \"scattermapbox\": [{\"marker\": {\"colorbar\": {\"outlinewidth\": 0, \"ticks\": \"\"}}, \"type\": \"scattermapbox\"}], \"scatterpolar\": [{\"marker\": {\"colorbar\": {\"outlinewidth\": 0, \"ticks\": \"\"}}, \"type\": \"scatterpolar\"}], \"scatterpolargl\": [{\"marker\": {\"colorbar\": {\"outlinewidth\": 0, \"ticks\": \"\"}}, \"type\": \"scatterpolargl\"}], \"scatterternary\": [{\"marker\": {\"colorbar\": {\"outlinewidth\": 0, \"ticks\": \"\"}}, \"type\": \"scatterternary\"}], \"surface\": [{\"colorbar\": {\"outlinewidth\": 0, \"ticks\": \"\"}, \"colorscale\": [[0.0, \"#0d0887\"], [0.1111111111111111, \"#46039f\"], [0.2222222222222222, \"#7201a8\"], [0.3333333333333333, \"#9c179e\"], [0.4444444444444444, \"#bd3786\"], [0.5555555555555556, \"#d8576b\"], [0.6666666666666666, \"#ed7953\"], [0.7777777777777778, \"#fb9f3a\"], [0.8888888888888888, \"#fdca26\"], [1.0, \"#f0f921\"]], \"type\": \"surface\"}], \"table\": [{\"cells\": {\"fill\": {\"color\": \"#EBF0F8\"}, \"line\": {\"color\": \"white\"}}, \"header\": {\"fill\": {\"color\": \"#C8D4E3\"}, \"line\": {\"color\": \"white\"}}, \"type\": \"table\"}]}, \"layout\": {\"annotationdefaults\": {\"arrowcolor\": \"#2a3f5f\", \"arrowhead\": 0, \"arrowwidth\": 1}, \"coloraxis\": {\"colorbar\": {\"outlinewidth\": 0, \"ticks\": \"\"}}, \"colorscale\": {\"diverging\": [[0, \"#8e0152\"], [0.1, \"#c51b7d\"], [0.2, \"#de77ae\"], [0.3, \"#f1b6da\"], [0.4, \"#fde0ef\"], [0.5, \"#f7f7f7\"], [0.6, \"#e6f5d0\"], [0.7, \"#b8e186\"], [0.8, \"#7fbc41\"], [0.9, \"#4d9221\"], [1, \"#276419\"]], \"sequential\": [[0.0, \"#0d0887\"], [0.1111111111111111, \"#46039f\"], [0.2222222222222222, \"#7201a8\"], [0.3333333333333333, \"#9c179e\"], [0.4444444444444444, \"#bd3786\"], [0.5555555555555556, \"#d8576b\"], [0.6666666666666666, \"#ed7953\"], [0.7777777777777778, \"#fb9f3a\"], [0.8888888888888888, \"#fdca26\"], [1.0, \"#f0f921\"]], \"sequentialminus\": [[0.0, \"#0d0887\"], [0.1111111111111111, \"#46039f\"], [0.2222222222222222, \"#7201a8\"], [0.3333333333333333, \"#9c179e\"], [0.4444444444444444, \"#bd3786\"], [0.5555555555555556, \"#d8576b\"], [0.6666666666666666, \"#ed7953\"], [0.7777777777777778, \"#fb9f3a\"], [0.8888888888888888, \"#fdca26\"], [1.0, \"#f0f921\"]]}, \"colorway\": [\"#636efa\", \"#EF553B\", \"#00cc96\", \"#ab63fa\", \"#FFA15A\", \"#19d3f3\", \"#FF6692\", \"#B6E880\", \"#FF97FF\", \"#FECB52\"], \"font\": {\"color\": \"#2a3f5f\"}, \"geo\": {\"bgcolor\": \"white\", \"lakecolor\": \"white\", \"landcolor\": \"#E5ECF6\", \"showlakes\": true, \"showland\": true, \"subunitcolor\": \"white\"}, \"hoverlabel\": {\"align\": \"left\"}, \"hovermode\": \"closest\", \"mapbox\": {\"style\": \"light\"}, \"paper_bgcolor\": \"white\", \"plot_bgcolor\": \"#E5ECF6\", \"polar\": {\"angularaxis\": {\"gridcolor\": \"white\", \"linecolor\": \"white\", \"ticks\": \"\"}, \"bgcolor\": \"#E5ECF6\", \"radialaxis\": {\"gridcolor\": \"white\", \"linecolor\": \"white\", \"ticks\": \"\"}}, \"scene\": {\"xaxis\": {\"backgroundcolor\": \"#E5ECF6\", \"gridcolor\": \"white\", \"gridwidth\": 2, \"linecolor\": \"white\", \"showbackground\": true, \"ticks\": \"\", \"zerolinecolor\": \"white\"}, \"yaxis\": {\"backgroundcolor\": \"#E5ECF6\", \"gridcolor\": \"white\", \"gridwidth\": 2, \"linecolor\": \"white\", \"showbackground\": true, \"ticks\": \"\", \"zerolinecolor\": \"white\"}, \"zaxis\": {\"backgroundcolor\": \"#E5ECF6\", \"gridcolor\": \"white\", \"gridwidth\": 2, \"linecolor\": \"white\", \"showbackground\": true, \"ticks\": \"\", \"zerolinecolor\": \"white\"}}, \"shapedefaults\": {\"line\": {\"color\": \"#2a3f5f\"}}, \"ternary\": {\"aaxis\": {\"gridcolor\": \"white\", \"linecolor\": \"white\", \"ticks\": \"\"}, \"baxis\": {\"gridcolor\": \"white\", \"linecolor\": \"white\", \"ticks\": \"\"}, \"bgcolor\": \"#E5ECF6\", \"caxis\": {\"gridcolor\": \"white\", \"linecolor\": \"white\", \"ticks\": \"\"}}, \"title\": {\"x\": 0.05}, \"xaxis\": {\"automargin\": true, \"gridcolor\": \"white\", \"linecolor\": \"white\", \"ticks\": \"\", \"title\": {\"standoff\": 15}, \"zerolinecolor\": \"white\", \"zerolinewidth\": 2}, \"yaxis\": {\"automargin\": true, \"gridcolor\": \"white\", \"linecolor\": \"white\", \"ticks\": \"\", \"title\": {\"standoff\": 15}, \"zerolinecolor\": \"white\", \"zerolinewidth\": 2}}}, \"title\": {\"text\": \"Tom Brady Passing Yards Distribution by Season\", \"x\": 0.5, \"y\": 0.9}, \"xaxis\": {\"anchor\": \"y\", \"domain\": [0.0, 1.0], \"matches\": \"x2\", \"showticklabels\": false, \"tickangle\": 90, \"tickvals\": [\"2001\", \"2002\", \"2003\", \"2004\", \"2005\", \"2006\", \"2007\", \"2009\", \"2010\", \"2011\", \"2012\", \"2013\", \"2014\", \"2015\", \"2016\", \"2017\", \"2018\", \"2019\"]}, \"xaxis2\": {\"anchor\": \"y2\", \"domain\": [0.0, 1.0], \"tickangle\": 90, \"tickvals\": [\"2001\", \"2002\", \"2003\", \"2004\", \"2005\", \"2006\", \"2007\", \"2009\", \"2010\", \"2011\", \"2012\", \"2013\", \"2014\", \"2015\", \"2016\", \"2017\", \"2018\", \"2019\"], \"title\": {\"text\": \"Season\"}}, \"yaxis\": {\"anchor\": \"x\", \"domain\": [0.18333333333333332, 1.0], \"title\": {\"text\": \"Yards/Game\"}}, \"yaxis2\": {\"anchor\": \"x2\", \"domain\": [0.0, 0.16333333333333333], \"title\": {\"text\": \"Average/Game\"}}},\n",
              "                        {\"responsive\": true}\n",
              "                    ).then(function(){\n",
              "                            \n",
              "var gd = document.getElementById('81d0ed02-e1fc-4393-b7c4-b4b6c8b0d9c1');\n",
              "var x = new MutationObserver(function (mutations, observer) {{\n",
              "        var display = window.getComputedStyle(gd).display;\n",
              "        if (!display || display === 'none') {{\n",
              "            console.log([gd, 'removed!']);\n",
              "            Plotly.purge(gd);\n",
              "            observer.disconnect();\n",
              "        }}\n",
              "}});\n",
              "\n",
              "// Listen for the removal of the full notebook cells\n",
              "var notebookContainer = gd.closest('#notebook-container');\n",
              "if (notebookContainer) {{\n",
              "    x.observe(notebookContainer, {childList: true});\n",
              "}}\n",
              "\n",
              "// Listen for the clearing of the current output cell\n",
              "var outputEl = gd.closest('.output');\n",
              "if (outputEl) {{\n",
              "    x.observe(outputEl, {childList: true});\n",
              "}}\n",
              "\n",
              "                        })\n",
              "                };\n",
              "                \n",
              "            </script>\n",
              "        </div>\n",
              "</body>\n",
              "</html>"
            ]
          },
          "metadata": {
            "tags": []
          }
        }
      ]
    },
    {
      "cell_type": "markdown",
      "metadata": {
        "id": "GwdrMvQXT-rY",
        "colab_type": "text"
      },
      "source": [
        "While the chart provides a nice visual, some annotation to indicate the 2008 season was not played due to injury would be helpful. After annotating the injury I also wanted to point out the Highest and Lowest Passing Yard Games in Brady's Career for our dataset. The functionality of plotly's annotation function is excellent. First I will create a dataframe of just the highest and lowest games with year and passing yards as the columns. Before we do that I will set the week and opponent data for highest and lowest passing yard game. "
      ]
    },
    {
      "cell_type": "code",
      "metadata": {
        "id": "1sNgt_VZT-rY",
        "colab_type": "code",
        "colab": {
          "base_uri": "https://localhost:8080/",
          "height": 106
        },
        "outputId": "a764987f-850c-496a-b6d1-afbae4c3b812"
      },
      "source": [
        "#Find Highest and Lowest Passing Yard Data\n",
        "high_row =  cleaned_df['Passing Yards'].idxmax()\n",
        "\n",
        "high_row_df = cleaned_df.loc[[high_row]]\n",
        "\n",
        "low_row =  cleaned_df['Passing Yards'].idxmin()\n",
        "\n",
        "low_row_df = cleaned_df.loc[[low_row]]\n",
        "\n",
        "#Set the week and opponent of the highest and lowest Passing Yard game\n",
        "high_wk = str(high_row_df['Week'].iloc[0])\n",
        "high_opp = str(high_row_df['Opp'].iloc[0])\n",
        "\n",
        "low_wk = str(low_row_df['Week'].iloc[0])\n",
        "low_opp = str(low_row_df['Opp'].iloc[0])\n",
        "\n",
        "#Combine the two dataframes\n",
        "\n",
        "hi_low_df = pd.concat([high_row_df,low_row_df])\n",
        "\n",
        "hi_low_df"
      ],
      "execution_count": 14,
      "outputs": [
        {
          "output_type": "execute_result",
          "data": {
            "text/html": [
              "<div>\n",
              "<style scoped>\n",
              "    .dataframe tbody tr th:only-of-type {\n",
              "        vertical-align: middle;\n",
              "    }\n",
              "\n",
              "    .dataframe tbody tr th {\n",
              "        vertical-align: top;\n",
              "    }\n",
              "\n",
              "    .dataframe thead th {\n",
              "        text-align: right;\n",
              "    }\n",
              "</style>\n",
              "<table border=\"1\" class=\"dataframe\">\n",
              "  <thead>\n",
              "    <tr style=\"text-align: right;\">\n",
              "      <th></th>\n",
              "      <th>Career Games Played</th>\n",
              "      <th>Week</th>\n",
              "      <th>Year</th>\n",
              "      <th>Game Date</th>\n",
              "      <th>Opp</th>\n",
              "      <th>Result</th>\n",
              "      <th>Cmp</th>\n",
              "      <th>Att</th>\n",
              "      <th>Cmp%</th>\n",
              "      <th>Passing Yards</th>\n",
              "      <th>TD</th>\n",
              "      <th>Int</th>\n",
              "      <th>Rate</th>\n",
              "    </tr>\n",
              "  </thead>\n",
              "  <tbody>\n",
              "    <tr>\n",
              "      <th>156</th>\n",
              "      <td>146</td>\n",
              "      <td>1</td>\n",
              "      <td>2011</td>\n",
              "      <td>2011-09-12</td>\n",
              "      <td>MIA</td>\n",
              "      <td>W 38-24</td>\n",
              "      <td>32.0</td>\n",
              "      <td>48.0</td>\n",
              "      <td>66.67</td>\n",
              "      <td>517.0</td>\n",
              "      <td>4.0</td>\n",
              "      <td>1.0</td>\n",
              "      <td>121.6</td>\n",
              "    </tr>\n",
              "    <tr>\n",
              "      <th>84</th>\n",
              "      <td>80</td>\n",
              "      <td>17</td>\n",
              "      <td>2005</td>\n",
              "      <td>2006-01-01</td>\n",
              "      <td>MIA</td>\n",
              "      <td>L 26-28</td>\n",
              "      <td>3.0</td>\n",
              "      <td>8.0</td>\n",
              "      <td>37.50</td>\n",
              "      <td>37.0</td>\n",
              "      <td>1.0</td>\n",
              "      <td>1.0</td>\n",
              "      <td>52.6</td>\n",
              "    </tr>\n",
              "  </tbody>\n",
              "</table>\n",
              "</div>"
            ],
            "text/plain": [
              "    Career Games Played Week  Year   Game Date  ... Passing Yards   TD  Int   Rate\n",
              "156                 146    1  2011  2011-09-12  ...         517.0  4.0  1.0  121.6\n",
              "84                   80   17  2005  2006-01-01  ...          37.0  1.0  1.0   52.6\n",
              "\n",
              "[2 rows x 13 columns]"
            ]
          },
          "metadata": {
            "tags": []
          },
          "execution_count": 14
        }
      ]
    },
    {
      "cell_type": "markdown",
      "metadata": {
        "id": "Z6sdKdidT-ra",
        "colab_type": "text"
      },
      "source": [
        "Now we can see the dataframe for the highest and lowest passing yard games of Brady's career. We will now set variables that will correspond to each graph for highest and lowest game. "
      ]
    },
    {
      "cell_type": "code",
      "metadata": {
        "id": "RA0RZhsdT-rb",
        "colab_type": "code",
        "colab": {}
      },
      "source": [
        "#Set the variables x1, x2, y1, y2 to correspond with coordinates \n",
        "#on graph of year and passing yards for highest and lowest game\n",
        "\n",
        "y1 = hi_low_df['Passing Yards'].min()\n",
        "\n",
        "y2 = hi_low_df['Passing Yards'].max()\n",
        "\n",
        "x1 = str(hi_low_df.loc[hi_low_df['Passing Yards'] == y1,'Year'].iloc[0])\n",
        "\n",
        "x2 = str(hi_low_df.loc[hi_low_df['Passing Yards'] == y2,'Year'].iloc[0])\n",
        "\n",
        "#y1 = y1.astype(int)\n",
        "\n",
        "#y2= y2.astype(int)"
      ],
      "execution_count": 0,
      "outputs": []
    },
    {
      "cell_type": "markdown",
      "metadata": {
        "id": "98gb4S8OT-rd",
        "colab_type": "text"
      },
      "source": [
        "After creating the annotations, we can implement the changes into our figure. I use the fig.update_layout to do this setting the x and y to the respective values in the dataframe, adding the text to be displayed and the arrow pointing to the datapoint on the chart. Adding the arrows is a limitation to Plotly as it takes a user to look at the chart and decide where best to put the annotations into the chart. Therefore the arrow data (ax and ay) are all hard coded for our chart. An advantage of this however is that the annotations are completely customizable and can be created easily by setting the x and y data for the point right into the x and y data of the chart. \n",
        "\n",
        "In our case we will use a customized hard coded annotation for Tom Brady for the 2008 season. Users may be tryin to use this tutorial for another player should not include the first annotation in their code. The other two annotations take the information created in our previous cells and incorporate those figures into the new figure with the x and y locations corresponding to the respective highest and lowest passing yards. As stated in the previous paragraph, if using another player the customization on the x and y location of arrow (example: ax =180, ay = 0) may need to be changed for the dataset so it is easier to read on the chart. \n",
        "\n",
        "Finally, Plotly boxplots allow the user to hover over each box and get data. There is an optional mode \"hovermode\" that allows the x, y, and closest(default) to be displayed when hovering over data. For this chart I have added in the x value when hovering over a box plot. This provides further clarity of which box plot the user is hovered over in the chart. "
      ]
    },
    {
      "cell_type": "code",
      "metadata": {
        "id": "bCNODva8T-re",
        "colab_type": "code",
        "colab": {
          "base_uri": "https://localhost:8080/",
          "height": 542
        },
        "outputId": "f369758f-e9d6-4ed3-c36f-504800014e50"
      },
      "source": [
        "fig.update_layout(annotations=[go.layout.Annotation(\n",
        "            x='2008', y=300, xref=\"x\", yref=\"y\", text=\"Brady Injured 2008\", showarrow=True, arrowhead=7, ax=0, ay=-90),\n",
        "                    #The annotation above is custom to Tom Brady Only, If using another player please remove\n",
        "                         \n",
        "                        go.layout.Annotation(\n",
        "            x=x1, y=y1, xref=\"x\", yref=\"y\", text=\"Lowest Passing Yard Game - Week {} against {}\".format(low_wk,low_opp),\n",
        "                            showarrow=True, arrowhead=7, ax=180, ay=0),\n",
        "                    go.layout.Annotation(\n",
        "            x=x2, y=y2, xref=\"x\", yref=\"y\", text=\"Highest Passing Yard Game - Week {} against {}\".format(high_wk,high_opp),\n",
        "                        showarrow=True, arrowhead=7, ax=180, ay=0),\n",
        "                                 ], hovermode='x')\n"
      ],
      "execution_count": 17,
      "outputs": [
        {
          "output_type": "display_data",
          "data": {
            "text/html": [
              "<html>\n",
              "<head><meta charset=\"utf-8\" /></head>\n",
              "<body>\n",
              "    <div>\n",
              "            <script src=\"https://cdnjs.cloudflare.com/ajax/libs/mathjax/2.7.5/MathJax.js?config=TeX-AMS-MML_SVG\"></script><script type=\"text/javascript\">if (window.MathJax) {MathJax.Hub.Config({SVG: {font: \"STIX-Web\"}});}</script>\n",
              "                <script type=\"text/javascript\">window.PlotlyConfig = {MathJaxConfig: 'local'};</script>\n",
              "        <script src=\"https://cdn.plot.ly/plotly-latest.min.js\"></script>    \n",
              "            <div id=\"3c1282a7-811d-4e06-bc0e-46d5d5e638a4\" class=\"plotly-graph-div\" style=\"height:525px; width:100%;\"></div>\n",
              "            <script type=\"text/javascript\">\n",
              "                \n",
              "                    window.PLOTLYENV=window.PLOTLYENV || {};\n",
              "                    \n",
              "                if (document.getElementById(\"3c1282a7-811d-4e06-bc0e-46d5d5e638a4\")) {\n",
              "                    Plotly.newPlot(\n",
              "                        '3c1282a7-811d-4e06-bc0e-46d5d5e638a4',\n",
              "                        [{\"boxpoints\": false, \"fillcolor\": \"blue\", \"marker\": {\"color\": \"black\"}, \"name\": \"2001\", \"type\": \"box\", \"y\": [46.0, 168.0, 86.0, 364.0, 202.0, 203.0, 250.0, 107.0, 185.0, 258.0, 213.0, 218.0, 237.0, 108.0, 198.0]}, {\"boxpoints\": false, \"fillcolor\": \"red\", \"marker\": {\"color\": \"black\"}, \"name\": \"2002\", \"type\": \"box\", \"y\": [294.0, 269.0, 410.0, 353.0, 240.0, 183.0, 130.0, 265.0, 328.0, 172.0, 239.0, 210.0, 183.0, 134.0, 133.0, 221.0]}, {\"boxpoints\": false, \"fillcolor\": \"blue\", \"marker\": {\"color\": \"black\"}, \"name\": \"2003\", \"type\": \"box\", \"y\": [123.0, 255.0, 181.0, 289.0, 219.0, 112.0, 283.0, 259.0, 350.0, 212.0, 368.0, 236.0, 163.0, 228.0, 138.0, 204.0]}, {\"boxpoints\": false, \"fillcolor\": \"red\", \"marker\": {\"color\": \"black\"}, \"name\": \"2004\", \"type\": \"box\", \"y\": [335.0, 219.0, 298.0, 76.0, 231.0, 230.0, 271.0, 234.0, 233.0, 315.0, 172.0, 157.0, 260.0, 171.0, 264.0, 226.0]}, {\"boxpoints\": false, \"fillcolor\": \"blue\", \"marker\": {\"color\": \"black\"}, \"name\": \"2005\", \"type\": \"box\", \"y\": [306.0, 270.0, 372.0, 224.0, 350.0, 299.0, 199.0, 265.0, 275.0, 222.0, 248.0, 271.0, 329.0, 258.0, 185.0, 37.0]}, {\"boxpoints\": false, \"fillcolor\": \"red\", \"marker\": {\"color\": \"black\"}, \"name\": \"2006\", \"type\": \"box\", \"y\": [163.0, 220.0, 320.0, 188.0, 140.0, 195.0, 372.0, 201.0, 253.0, 244.0, 267.0, 305.0, 78.0, 109.0, 249.0, 225.0]}, {\"boxpoints\": false, \"fillcolor\": \"blue\", \"marker\": {\"color\": \"black\"}, \"name\": \"2007\", \"type\": \"box\", \"y\": [297.0, 279.0, 311.0, 231.0, 265.0, 388.0, 354.0, 306.0, 255.0, 373.0, 380.0, 257.0, 399.0, 140.0, 215.0, 356.0]}, {\"boxpoints\": false, \"fillcolor\": \"blue\", \"marker\": {\"color\": \"black\"}, \"name\": \"2009\", \"type\": \"box\", \"y\": [378.0, 216.0, 277.0, 258.0, 215.0, 380.0, 308.0, 332.0, 375.0, 310.0, 237.0, 352.0, 192.0, 115.0, 267.0, 186.0]}, {\"boxpoints\": false, \"fillcolor\": \"red\", \"marker\": {\"color\": \"black\"}, \"name\": \"2010\", \"type\": \"box\", \"y\": [258.0, 248.0, 252.0, 153.0, 292.0, 159.0, 240.0, 224.0, 350.0, 186.0, 341.0, 326.0, 369.0, 163.0, 140.0, 199.0]}, {\"boxpoints\": false, \"fillcolor\": \"blue\", \"marker\": {\"color\": \"black\"}, \"name\": \"2011\", \"type\": \"box\", \"y\": [517.0, 423.0, 387.0, 226.0, 321.0, 289.0, 198.0, 342.0, 329.0, 234.0, 361.0, 289.0, 357.0, 320.0, 304.0, 338.0]}, {\"boxpoints\": false, \"fillcolor\": \"red\", \"marker\": {\"color\": \"black\"}, \"name\": \"2012\", \"type\": \"box\", \"y\": [236.0, 316.0, 335.0, 340.0, 223.0, 395.0, 259.0, 304.0, 237.0, 331.0, 323.0, 238.0, 296.0, 443.0, 267.0, 284.0]}, {\"boxpoints\": false, \"fillcolor\": \"blue\", \"marker\": {\"color\": \"black\"}, \"name\": \"2013\", \"type\": \"box\", \"y\": [288.0, 185.0, 225.0, 316.0, 197.0, 269.0, 228.0, 116.0, 432.0, 296.0, 344.0, 371.0, 418.0, 364.0, 172.0, 122.0]}, {\"boxpoints\": false, \"fillcolor\": \"red\", \"marker\": {\"color\": \"black\"}, \"name\": \"2014\", \"type\": \"box\", \"y\": [249.0, 149.0, 234.0, 159.0, 292.0, 361.0, 261.0, 354.0, 333.0, 257.0, 349.0, 245.0, 317.0, 287.0, 182.0, 80.0]}, {\"boxpoints\": false, \"fillcolor\": \"blue\", \"marker\": {\"color\": \"black\"}, \"name\": \"2015\", \"type\": \"box\", \"y\": [288.0, 466.0, 358.0, 275.0, 312.0, 355.0, 356.0, 299.0, 334.0, 277.0, 280.0, 312.0, 226.0, 267.0, 231.0, 134.0]}, {\"boxpoints\": false, \"fillcolor\": \"red\", \"marker\": {\"color\": \"black\"}, \"name\": \"2016\", \"type\": \"box\", \"y\": [406.0, 376.0, 222.0, 315.0, 316.0, 280.0, 286.0, 269.0, 406.0, 188.0, 214.0, 276.0]}, {\"boxpoints\": false, \"fillcolor\": \"blue\", \"marker\": {\"color\": \"black\"}, \"name\": \"2017\", \"type\": \"box\", \"y\": [267.0, 447.0, 378.0, 307.0, 303.0, 257.0, 249.0, 333.0, 266.0, 340.0, 227.0, 258.0, 233.0, 298.0, 224.0, 190.0]}, {\"boxpoints\": false, \"fillcolor\": \"red\", \"marker\": {\"color\": \"black\"}, \"name\": \"2018\", \"type\": \"box\", \"y\": [277.0, 234.0, 133.0, 274.0, 341.0, 340.0, 277.0, 324.0, 294.0, 254.0, 283.0, 311.0, 358.0, 279.0, 126.0, 250.0]}, {\"boxpoints\": false, \"fillcolor\": \"blue\", \"marker\": {\"color\": \"black\"}, \"name\": \"2019\", \"type\": \"box\", \"y\": [341.0, 264.0, 306.0, 150.0, 348.0, 334.0, 249.0, 259.0, 285.0, 216.0, 190.0, 326.0, 169.0, 128.0, 271.0, 221.0]}, {\"marker\": {\"color\": \"black\"}, \"mode\": \"lines\", \"name\": \"Average\", \"type\": \"scatter\", \"x\": [\"2001\", \"2002\", \"2003\", \"2004\", \"2005\", \"2006\", \"2007\", \"2009\", \"2010\", \"2011\", \"2012\", \"2013\", \"2014\", \"2015\", \"2016\", \"2017\", \"2018\", \"2019\"], \"xaxis\": \"x2\", \"y\": [189.53, 235.25, 226.25, 230.75, 256.88, 220.56, 300.38, 274.88, 243.75, 327.19, 301.69, 271.44, 256.81, 298.12, 296.17, 286.06, 272.19, 253.56], \"yaxis\": \"y2\"}],\n",
              "                        {\"annotations\": [{\"arrowhead\": 7, \"ax\": 0, \"ay\": -90, \"showarrow\": true, \"text\": \"Brady Injured 2008\", \"x\": \"2008\", \"xref\": \"x\", \"y\": 300, \"yref\": \"y\"}, {\"arrowhead\": 7, \"ax\": 180, \"ay\": 0, \"showarrow\": true, \"text\": \"Lowest Passing Yard Game - Week 17 against MIA\", \"x\": \"2005\", \"xref\": \"x\", \"y\": 37.0, \"yref\": \"y\"}, {\"arrowhead\": 7, \"ax\": 180, \"ay\": 0, \"showarrow\": true, \"text\": \"Highest Passing Yard Game - Week 1 against MIA\", \"x\": \"2011\", \"xref\": \"x\", \"y\": 517.0, \"yref\": \"y\"}], \"hovermode\": \"x\", \"plot_bgcolor\": \"rgb(243, 243, 243)\", \"template\": {\"data\": {\"bar\": [{\"error_x\": {\"color\": \"#2a3f5f\"}, \"error_y\": {\"color\": \"#2a3f5f\"}, \"marker\": {\"line\": {\"color\": \"#E5ECF6\", \"width\": 0.5}}, \"type\": \"bar\"}], \"barpolar\": [{\"marker\": {\"line\": {\"color\": \"#E5ECF6\", \"width\": 0.5}}, \"type\": \"barpolar\"}], \"carpet\": [{\"aaxis\": {\"endlinecolor\": \"#2a3f5f\", \"gridcolor\": \"white\", \"linecolor\": \"white\", \"minorgridcolor\": \"white\", \"startlinecolor\": \"#2a3f5f\"}, \"baxis\": {\"endlinecolor\": \"#2a3f5f\", \"gridcolor\": \"white\", \"linecolor\": \"white\", \"minorgridcolor\": \"white\", \"startlinecolor\": \"#2a3f5f\"}, \"type\": \"carpet\"}], \"choropleth\": [{\"colorbar\": {\"outlinewidth\": 0, \"ticks\": \"\"}, \"type\": \"choropleth\"}], \"contour\": [{\"colorbar\": {\"outlinewidth\": 0, \"ticks\": \"\"}, \"colorscale\": [[0.0, \"#0d0887\"], [0.1111111111111111, \"#46039f\"], [0.2222222222222222, \"#7201a8\"], [0.3333333333333333, \"#9c179e\"], [0.4444444444444444, \"#bd3786\"], [0.5555555555555556, \"#d8576b\"], [0.6666666666666666, \"#ed7953\"], [0.7777777777777778, \"#fb9f3a\"], [0.8888888888888888, \"#fdca26\"], [1.0, \"#f0f921\"]], \"type\": \"contour\"}], \"contourcarpet\": [{\"colorbar\": {\"outlinewidth\": 0, \"ticks\": \"\"}, \"type\": \"contourcarpet\"}], \"heatmap\": [{\"colorbar\": {\"outlinewidth\": 0, \"ticks\": \"\"}, \"colorscale\": [[0.0, \"#0d0887\"], [0.1111111111111111, \"#46039f\"], [0.2222222222222222, \"#7201a8\"], [0.3333333333333333, \"#9c179e\"], [0.4444444444444444, \"#bd3786\"], [0.5555555555555556, \"#d8576b\"], [0.6666666666666666, \"#ed7953\"], [0.7777777777777778, \"#fb9f3a\"], [0.8888888888888888, \"#fdca26\"], [1.0, \"#f0f921\"]], \"type\": \"heatmap\"}], \"heatmapgl\": [{\"colorbar\": {\"outlinewidth\": 0, \"ticks\": \"\"}, \"colorscale\": [[0.0, \"#0d0887\"], [0.1111111111111111, \"#46039f\"], [0.2222222222222222, \"#7201a8\"], [0.3333333333333333, \"#9c179e\"], [0.4444444444444444, \"#bd3786\"], [0.5555555555555556, \"#d8576b\"], [0.6666666666666666, \"#ed7953\"], [0.7777777777777778, \"#fb9f3a\"], [0.8888888888888888, \"#fdca26\"], [1.0, \"#f0f921\"]], \"type\": \"heatmapgl\"}], \"histogram\": [{\"marker\": {\"colorbar\": {\"outlinewidth\": 0, \"ticks\": \"\"}}, \"type\": \"histogram\"}], \"histogram2d\": [{\"colorbar\": {\"outlinewidth\": 0, \"ticks\": \"\"}, \"colorscale\": [[0.0, \"#0d0887\"], [0.1111111111111111, \"#46039f\"], [0.2222222222222222, \"#7201a8\"], [0.3333333333333333, \"#9c179e\"], [0.4444444444444444, \"#bd3786\"], [0.5555555555555556, \"#d8576b\"], [0.6666666666666666, \"#ed7953\"], [0.7777777777777778, \"#fb9f3a\"], [0.8888888888888888, \"#fdca26\"], [1.0, \"#f0f921\"]], \"type\": \"histogram2d\"}], \"histogram2dcontour\": [{\"colorbar\": {\"outlinewidth\": 0, \"ticks\": \"\"}, \"colorscale\": [[0.0, \"#0d0887\"], [0.1111111111111111, \"#46039f\"], [0.2222222222222222, \"#7201a8\"], [0.3333333333333333, \"#9c179e\"], [0.4444444444444444, \"#bd3786\"], [0.5555555555555556, \"#d8576b\"], [0.6666666666666666, \"#ed7953\"], [0.7777777777777778, \"#fb9f3a\"], [0.8888888888888888, \"#fdca26\"], [1.0, \"#f0f921\"]], \"type\": \"histogram2dcontour\"}], \"mesh3d\": [{\"colorbar\": {\"outlinewidth\": 0, \"ticks\": \"\"}, \"type\": \"mesh3d\"}], \"parcoords\": [{\"line\": {\"colorbar\": {\"outlinewidth\": 0, \"ticks\": \"\"}}, \"type\": \"parcoords\"}], \"pie\": [{\"automargin\": true, \"type\": \"pie\"}], \"scatter\": [{\"marker\": {\"colorbar\": {\"outlinewidth\": 0, \"ticks\": \"\"}}, \"type\": \"scatter\"}], \"scatter3d\": [{\"line\": {\"colorbar\": {\"outlinewidth\": 0, \"ticks\": \"\"}}, \"marker\": {\"colorbar\": {\"outlinewidth\": 0, \"ticks\": \"\"}}, \"type\": \"scatter3d\"}], \"scattercarpet\": [{\"marker\": {\"colorbar\": {\"outlinewidth\": 0, \"ticks\": \"\"}}, \"type\": \"scattercarpet\"}], \"scattergeo\": [{\"marker\": {\"colorbar\": {\"outlinewidth\": 0, \"ticks\": \"\"}}, \"type\": \"scattergeo\"}], \"scattergl\": [{\"marker\": {\"colorbar\": {\"outlinewidth\": 0, \"ticks\": \"\"}}, \"type\": \"scattergl\"}], \"scattermapbox\": [{\"marker\": {\"colorbar\": {\"outlinewidth\": 0, \"ticks\": \"\"}}, \"type\": \"scattermapbox\"}], \"scatterpolar\": [{\"marker\": {\"colorbar\": {\"outlinewidth\": 0, \"ticks\": \"\"}}, \"type\": \"scatterpolar\"}], \"scatterpolargl\": [{\"marker\": {\"colorbar\": {\"outlinewidth\": 0, \"ticks\": \"\"}}, \"type\": \"scatterpolargl\"}], \"scatterternary\": [{\"marker\": {\"colorbar\": {\"outlinewidth\": 0, \"ticks\": \"\"}}, \"type\": \"scatterternary\"}], \"surface\": [{\"colorbar\": {\"outlinewidth\": 0, \"ticks\": \"\"}, \"colorscale\": [[0.0, \"#0d0887\"], [0.1111111111111111, \"#46039f\"], [0.2222222222222222, \"#7201a8\"], [0.3333333333333333, \"#9c179e\"], [0.4444444444444444, \"#bd3786\"], [0.5555555555555556, \"#d8576b\"], [0.6666666666666666, \"#ed7953\"], [0.7777777777777778, \"#fb9f3a\"], [0.8888888888888888, \"#fdca26\"], [1.0, \"#f0f921\"]], \"type\": \"surface\"}], \"table\": [{\"cells\": {\"fill\": {\"color\": \"#EBF0F8\"}, \"line\": {\"color\": \"white\"}}, \"header\": {\"fill\": {\"color\": \"#C8D4E3\"}, \"line\": {\"color\": \"white\"}}, \"type\": \"table\"}]}, \"layout\": {\"annotationdefaults\": {\"arrowcolor\": \"#2a3f5f\", \"arrowhead\": 0, \"arrowwidth\": 1}, \"coloraxis\": {\"colorbar\": {\"outlinewidth\": 0, \"ticks\": \"\"}}, \"colorscale\": {\"diverging\": [[0, \"#8e0152\"], [0.1, \"#c51b7d\"], [0.2, \"#de77ae\"], [0.3, \"#f1b6da\"], [0.4, \"#fde0ef\"], [0.5, \"#f7f7f7\"], [0.6, \"#e6f5d0\"], [0.7, \"#b8e186\"], [0.8, \"#7fbc41\"], [0.9, \"#4d9221\"], [1, \"#276419\"]], \"sequential\": [[0.0, \"#0d0887\"], [0.1111111111111111, \"#46039f\"], [0.2222222222222222, \"#7201a8\"], [0.3333333333333333, \"#9c179e\"], [0.4444444444444444, \"#bd3786\"], [0.5555555555555556, \"#d8576b\"], [0.6666666666666666, \"#ed7953\"], [0.7777777777777778, \"#fb9f3a\"], [0.8888888888888888, \"#fdca26\"], [1.0, \"#f0f921\"]], \"sequentialminus\": [[0.0, \"#0d0887\"], [0.1111111111111111, \"#46039f\"], [0.2222222222222222, \"#7201a8\"], [0.3333333333333333, \"#9c179e\"], [0.4444444444444444, \"#bd3786\"], [0.5555555555555556, \"#d8576b\"], [0.6666666666666666, \"#ed7953\"], [0.7777777777777778, \"#fb9f3a\"], [0.8888888888888888, \"#fdca26\"], [1.0, \"#f0f921\"]]}, \"colorway\": [\"#636efa\", \"#EF553B\", \"#00cc96\", \"#ab63fa\", \"#FFA15A\", \"#19d3f3\", \"#FF6692\", \"#B6E880\", \"#FF97FF\", \"#FECB52\"], \"font\": {\"color\": \"#2a3f5f\"}, \"geo\": {\"bgcolor\": \"white\", \"lakecolor\": \"white\", \"landcolor\": \"#E5ECF6\", \"showlakes\": true, \"showland\": true, \"subunitcolor\": \"white\"}, \"hoverlabel\": {\"align\": \"left\"}, \"hovermode\": \"closest\", \"mapbox\": {\"style\": \"light\"}, \"paper_bgcolor\": \"white\", \"plot_bgcolor\": \"#E5ECF6\", \"polar\": {\"angularaxis\": {\"gridcolor\": \"white\", \"linecolor\": \"white\", \"ticks\": \"\"}, \"bgcolor\": \"#E5ECF6\", \"radialaxis\": {\"gridcolor\": \"white\", \"linecolor\": \"white\", \"ticks\": \"\"}}, \"scene\": {\"xaxis\": {\"backgroundcolor\": \"#E5ECF6\", \"gridcolor\": \"white\", \"gridwidth\": 2, \"linecolor\": \"white\", \"showbackground\": true, \"ticks\": \"\", \"zerolinecolor\": \"white\"}, \"yaxis\": {\"backgroundcolor\": \"#E5ECF6\", \"gridcolor\": \"white\", \"gridwidth\": 2, \"linecolor\": \"white\", \"showbackground\": true, \"ticks\": \"\", \"zerolinecolor\": \"white\"}, \"zaxis\": {\"backgroundcolor\": \"#E5ECF6\", \"gridcolor\": \"white\", \"gridwidth\": 2, \"linecolor\": \"white\", \"showbackground\": true, \"ticks\": \"\", \"zerolinecolor\": \"white\"}}, \"shapedefaults\": {\"line\": {\"color\": \"#2a3f5f\"}}, \"ternary\": {\"aaxis\": {\"gridcolor\": \"white\", \"linecolor\": \"white\", \"ticks\": \"\"}, \"baxis\": {\"gridcolor\": \"white\", \"linecolor\": \"white\", \"ticks\": \"\"}, \"bgcolor\": \"#E5ECF6\", \"caxis\": {\"gridcolor\": \"white\", \"linecolor\": \"white\", \"ticks\": \"\"}}, \"title\": {\"x\": 0.05}, \"xaxis\": {\"automargin\": true, \"gridcolor\": \"white\", \"linecolor\": \"white\", \"ticks\": \"\", \"title\": {\"standoff\": 15}, \"zerolinecolor\": \"white\", \"zerolinewidth\": 2}, \"yaxis\": {\"automargin\": true, \"gridcolor\": \"white\", \"linecolor\": \"white\", \"ticks\": \"\", \"title\": {\"standoff\": 15}, \"zerolinecolor\": \"white\", \"zerolinewidth\": 2}}}, \"title\": {\"text\": \"Tom Brady Passing Yards Distribution by Season\", \"x\": 0.5, \"y\": 0.9}, \"xaxis\": {\"anchor\": \"y\", \"domain\": [0.0, 1.0], \"matches\": \"x2\", \"showticklabels\": false, \"tickangle\": 90, \"tickvals\": [\"2001\", \"2002\", \"2003\", \"2004\", \"2005\", \"2006\", \"2007\", \"2009\", \"2010\", \"2011\", \"2012\", \"2013\", \"2014\", \"2015\", \"2016\", \"2017\", \"2018\", \"2019\"]}, \"xaxis2\": {\"anchor\": \"y2\", \"domain\": [0.0, 1.0], \"tickangle\": 90, \"tickvals\": [\"2001\", \"2002\", \"2003\", \"2004\", \"2005\", \"2006\", \"2007\", \"2009\", \"2010\", \"2011\", \"2012\", \"2013\", \"2014\", \"2015\", \"2016\", \"2017\", \"2018\", \"2019\"], \"title\": {\"text\": \"Season\"}}, \"yaxis\": {\"anchor\": \"x\", \"domain\": [0.18333333333333332, 1.0], \"title\": {\"text\": \"Yards/Game\"}}, \"yaxis2\": {\"anchor\": \"x2\", \"domain\": [0.0, 0.16333333333333333], \"title\": {\"text\": \"Average/Game\"}}},\n",
              "                        {\"responsive\": true}\n",
              "                    ).then(function(){\n",
              "                            \n",
              "var gd = document.getElementById('3c1282a7-811d-4e06-bc0e-46d5d5e638a4');\n",
              "var x = new MutationObserver(function (mutations, observer) {{\n",
              "        var display = window.getComputedStyle(gd).display;\n",
              "        if (!display || display === 'none') {{\n",
              "            console.log([gd, 'removed!']);\n",
              "            Plotly.purge(gd);\n",
              "            observer.disconnect();\n",
              "        }}\n",
              "}});\n",
              "\n",
              "// Listen for the removal of the full notebook cells\n",
              "var notebookContainer = gd.closest('#notebook-container');\n",
              "if (notebookContainer) {{\n",
              "    x.observe(notebookContainer, {childList: true});\n",
              "}}\n",
              "\n",
              "// Listen for the clearing of the current output cell\n",
              "var outputEl = gd.closest('.output');\n",
              "if (outputEl) {{\n",
              "    x.observe(outputEl, {childList: true});\n",
              "}}\n",
              "\n",
              "                        })\n",
              "                };\n",
              "                \n",
              "            </script>\n",
              "        </div>\n",
              "</body>\n",
              "</html>"
            ]
          },
          "metadata": {
            "tags": []
          }
        }
      ]
    },
    {
      "cell_type": "markdown",
      "metadata": {
        "id": "HI8_5cugT-rg",
        "colab_type": "text"
      },
      "source": [
        "Summary of Visualization \n",
        "\n",
        "We can gather from the chart that Brady had several years of improved yardage to start his career and before his injury. This is shown with the median number generally increasing from 2001-2007 (albeit significant drop from 05-06). After the injury in 2008 there was a few years of lower yardage (this may not just be due to the injury) before increases and the median has stayed rather consistent in the 260-300 yards a game metric over the last ten seasons. It is interesting that the lowest and highest passing yards games were both against Miami. It is not surprising that the lowest passing yardage came in a week 17 game. This is because the Patriots have historically been in the playoffs over Brady's career and NFL teams usually rest their star players their last game in order to conserve their energy for the playoffs. In this case the Patriots were indeed in the playoff picture and Brady played sparingly at the beginning of the game. He ended the day 3 for 8 with 37 yards a touchdown and an interception. Matt Cassell, the backup quarterback played much more throwing for 168 yards and two touchdowns. \n",
        "\n",
        "One of the things I really like about the visual created is its clarity. Users can clearly see each season played with the distribution of data for each season. The hovermode brings further clarity to the x axis on what season's distribution is being viewed. One drawback that I had to settle with is that I found no solution to link the two subplots for hovermode as the forums I looked into stated this functionality was being worked on. This prevents the user from hovering over the boxplot graph and automatically seeing the data on the average graph (plot 2) as well. I do not think it takes away from the overall functionality of the graph, especially because we are focusing on the boxplots but it would have been a nice add-on.\n",
        "\n",
        "A nice benefit of Plotly is that it allows the user to select specific years if they would like via the legend. This functionality can be customized to be removed but I believe it is a nice way to allow the user to select which years they would like to look at. Also Plotly allows the user to zoom into certain sections of the chart without additional code. Feel free to click on certain years on the right legend and watch as they are removed once clicked as well as zoom in on certain sections. When you are done and want to get back to the full chart just click the home symbol (reset axes) at top right of the chart and be sure to reselect all of the years. \n",
        "\n",
        "The data conveyed by our chart shows the following metrics by season: \n",
        "\n",
        "Max: Maximum Value of the Season, Q3: Third Quartile, Median (2nd Quartile): Value in wich the set is divided into halves (Middle Value or average of two middle values), Q1: First Quartile, Min: Minimum Value of Season. \n",
        "\n",
        "This data analysis shows the variability of Brady's passing yards over the years and gives the viewer information on the consistency of Brady's abilities in passing yards/game. Brady has had arguably the best career in the history of NFL quarterbacks. A portion of his successes is displayed in this chart. The passing yard improvement throughout his career, the more consistency over each year, i.e. the medians hovering from 260-300 yards over the last decade, and the long career of almost two decades depict a career full of tremendous accomplishments including 6 Super Bowl Championships. This visualization is just one summary of those accomplishments. "
      ]
    },
    {
      "cell_type": "markdown",
      "metadata": {
        "id": "H2TTqmu1T-rh",
        "colab_type": "text"
      },
      "source": [
        "Rules for Writing and Sharing Computational Analysis\n",
        "\n",
        "The following are rules I adhered to while writing and sharing my computational analysis:\n",
        "\n",
        "Rule 1: Tell a story for an audience - by using exploratory text, I was able to tell the story of Tom Brady's passing game statistics. I began the notebook explaining what we would be doing, the middle of the notebook had the steps to achieve the results and the summary of the visualization analyzed the results. \n",
        "\n",
        "Rule 2: Document the process, not just the results- during the meat of the notebook I described each step including cleaning the dataframe and the problems that we ran into after each step in order to show the entire process of cleaning the dataframe. I also created and updated the figure several times to show the steps at improving the visualization with comments along the way to help guide the reader.  \n",
        "\n",
        "Rule 3: Use Cell Divisions to Make Steps Clear - the article indicated that a problem with some notebooks is that they can be filled with short fragments that are hard to follow. I have separated my cells into clear and concise steps in cleaning the dataset, creating the charts, adding annotations, etc. I also did not have any lines of cells that are longer than 40 lines which makes the code easier to read. I also added some comments in the code itself which I feel helps the user follow the lines of code more clearly. \n",
        "\n",
        "Rule 8: Share and explain your data- I used data from a free, publicly available website. This allows me to share the data alongside my notebook and helps the user to interpret the results more easily. I also described the dataset given in the beginning of the notebook. "
      ]
    },
    {
      "cell_type": "markdown",
      "metadata": {
        "id": "uUfWVSjrT-rh",
        "colab_type": "text"
      },
      "source": [
        "Chadwick Schlett : Graduate Student : University of Michigan Master of Applied Datascience "
      ]
    },
    {
      "cell_type": "code",
      "metadata": {
        "id": "leRXUu6HT-ri",
        "colab_type": "code",
        "colab": {}
      },
      "source": [
        ""
      ],
      "execution_count": 0,
      "outputs": []
    }
  ]
}
